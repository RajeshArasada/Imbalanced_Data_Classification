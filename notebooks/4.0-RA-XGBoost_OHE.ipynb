{
 "cells": [
  {
   "cell_type": "markdown",
   "metadata": {},
   "source": [
    "# Imports"
   ]
  },
  {
   "cell_type": "code",
   "execution_count": 1,
   "metadata": {},
   "outputs": [],
   "source": [
    "import warnings\n",
    "warnings.filterwarnings(\"ignore\")\n",
    "\n",
    "import pandas as pd\n",
    "import numpy as np\n",
    "from datetime import datetime\n",
    "from tqdm import tqdm\n",
    "\n",
    "import sklearn\n",
    "from sklearn import metrics\n",
    "from sklearn.metrics import roc_auc_score, confusion_matrix\n",
    "from sklearn.model_selection import train_test_split\n",
    "from sklearn.model_selection import GridSearchCV, RandomizedSearchCV, StratifiedKFold\n",
    "\n",
    "import xgboost as xgb\n",
    "from xgboost import XGBClassifier\n",
    "\n",
    "import matplotlib.pyplot as plt\n",
    "%matplotlib inline\n",
    "import seaborn as sns"
   ]
  },
  {
   "cell_type": "markdown",
   "metadata": {},
   "source": [
    "# Data"
   ]
  },
  {
   "cell_type": "code",
   "execution_count": 2,
   "metadata": {},
   "outputs": [],
   "source": [
    "train = pd.read_csv(\"../data/processed/SMOTE_df.csv\")\n",
    "validation = pd.read_csv(\"../data/processed/validation.csv\")\n",
    "test = pd.read_csv(\"../data/processed/test.csv\")"
   ]
  },
  {
   "cell_type": "code",
   "execution_count": 3,
   "metadata": {},
   "outputs": [],
   "source": [
    "y_train = train['readmitted_rescaled']\n",
    "X_train = train.drop('readmitted_rescaled', axis=1)\n",
    "\n",
    "y_val = validation['readmitted_rescaled']\n",
    "X_val = validation.drop('readmitted_rescaled', axis=1)\n",
    "\n",
    "y_test = test['readmitted_rescaled']\n",
    "X_test = test.drop('readmitted_rescaled', axis=1)"
   ]
  },
  {
   "cell_type": "code",
   "execution_count": 4,
   "metadata": {},
   "outputs": [],
   "source": [
    "def rename_column_names(colname):\n",
    "    colname = \"_\".join(colname.split('-'))\n",
    "    colname = \"_\".join(colname.split(','))\n",
    "    colname = \"_\".join(colname.split('<'))\n",
    "    colname = \"_\".join(colname.split('/'))\n",
    "    colname = \"_\".join(colname.split('.'))\n",
    "    colname = \"_\".join(colname.split('['))\n",
    "    colname = \"_\".join(colname.split(']'))\n",
    "    colname = \"\".join(colname.split(')'))\n",
    "    colname = \"_\".join(colname.split('('))\n",
    "    return colname\n",
    "  "
   ]
  },
  {
   "cell_type": "code",
   "execution_count": 5,
   "metadata": {},
   "outputs": [],
   "source": [
    "new_train_colnames = list(map(lambda x: rename_column_names(x), X_train.columns.tolist()))\n",
    "new_val_colnames = list(map(lambda x: rename_column_names(x), X_val.columns.tolist()))\n",
    "new_test_colnames = list(map(lambda x: rename_column_names(x), X_test.columns.tolist()))"
   ]
  },
  {
   "cell_type": "code",
   "execution_count": 6,
   "metadata": {},
   "outputs": [],
   "source": [
    "X_train.columns = new_train_colnames\n",
    "X_val.columns = new_val_colnames\n",
    "X_test.columns = new_test_colnames"
   ]
  },
  {
   "cell_type": "markdown",
   "metadata": {},
   "source": [
    "# Base Model"
   ]
  },
  {
   "cell_type": "code",
   "execution_count": 15,
   "metadata": {},
   "outputs": [],
   "source": [
    "dtrain = xgb.DMatrix(X_train, label=y_train)\n",
    "dvalidation = xgb.DMatrix(X_val, label=y_val)"
   ]
  },
  {
   "cell_type": "code",
   "execution_count": 16,
   "metadata": {},
   "outputs": [],
   "source": [
    "dtest = xgb.DMatrix(X_test, label=y_test)"
   ]
  },
  {
   "cell_type": "code",
   "execution_count": 8,
   "metadata": {},
   "outputs": [],
   "source": [
    "param = {'max_depth': 2, 'eta': 1, 'objective': 'binary:logistic', 'eval_metric': 'auc'}"
   ]
  },
  {
   "cell_type": "code",
   "execution_count": 9,
   "metadata": {},
   "outputs": [],
   "source": [
    "# specify validations set to watch performance\n",
    "watchlist = [(dvalidation, 'eval'), (dtrain, 'train')]"
   ]
  },
  {
   "cell_type": "code",
   "execution_count": 10,
   "metadata": {
    "scrolled": false
   },
   "outputs": [
    {
     "name": "stdout",
     "output_type": "stream",
     "text": [
      "[0]\teval-auc:0.574939\ttrain-auc:0.623693\n",
      "[1]\teval-auc:0.59001\ttrain-auc:0.670517\n",
      "[2]\teval-auc:0.579831\ttrain-auc:0.708186\n",
      "[3]\teval-auc:0.553883\ttrain-auc:0.736572\n",
      "[4]\teval-auc:0.543521\ttrain-auc:0.767972\n",
      "[5]\teval-auc:0.562488\ttrain-auc:0.77669\n",
      "[6]\teval-auc:0.571813\ttrain-auc:0.786016\n",
      "[7]\teval-auc:0.561704\ttrain-auc:0.813818\n",
      "[8]\teval-auc:0.567376\ttrain-auc:0.820668\n",
      "[9]\teval-auc:0.574203\ttrain-auc:0.842267\n",
      "[10]\teval-auc:0.568558\ttrain-auc:0.868621\n",
      "[11]\teval-auc:0.570229\ttrain-auc:0.887012\n",
      "[12]\teval-auc:0.568799\ttrain-auc:0.898338\n",
      "[13]\teval-auc:0.563253\ttrain-auc:0.901407\n",
      "[14]\teval-auc:0.561046\ttrain-auc:0.904827\n",
      "[15]\teval-auc:0.562571\ttrain-auc:0.907242\n",
      "[16]\teval-auc:0.563237\ttrain-auc:0.911668\n",
      "[17]\teval-auc:0.561447\ttrain-auc:0.914021\n",
      "[18]\teval-auc:0.563128\ttrain-auc:0.916966\n",
      "[19]\teval-auc:0.562175\ttrain-auc:0.919093\n",
      "[20]\teval-auc:0.563764\ttrain-auc:0.921542\n",
      "[21]\teval-auc:0.563141\ttrain-auc:0.923222\n",
      "[22]\teval-auc:0.564054\ttrain-auc:0.924796\n",
      "[23]\teval-auc:0.569048\ttrain-auc:0.926022\n",
      "[24]\teval-auc:0.566698\ttrain-auc:0.932968\n"
     ]
    }
   ],
   "source": [
    "num_round = 25\n",
    "bst = xgb.train(param, dtrain, num_round, watchlist)"
   ]
  },
  {
   "cell_type": "markdown",
   "metadata": {},
   "source": [
    "## Base model performance"
   ]
  },
  {
   "cell_type": "markdown",
   "metadata": {},
   "source": [
    "### Base model predictions"
   ]
  },
  {
   "cell_type": "code",
   "execution_count": 75,
   "metadata": {},
   "outputs": [
    {
     "name": "stdout",
     "output_type": "stream",
     "text": [
      "[0.14651231 0.29021257 0.53440356 ... 0.1798375  0.05700677 0.14533229]\n",
      "[0. 1. 0. ... 0. 0. 0.]\n"
     ]
    }
   ],
   "source": [
    "preds = bst.predict(dvalidation)\n",
    "print(preds)\n",
    "labels = dvalidation.get_label()\n",
    "print(labels)"
   ]
  },
  {
   "cell_type": "code",
   "execution_count": 82,
   "metadata": {},
   "outputs": [
    {
     "name": "stdout",
     "output_type": "stream",
     "text": [
      "error=0.13\n"
     ]
    }
   ],
   "source": [
    "print('error={:.2f}' .format(sum(1 for i in range(len(preds)) if int(preds[i] > 0.5) != labels[i]) /\n",
    "       float(len(preds))))"
   ]
  },
  {
   "cell_type": "code",
   "execution_count": 87,
   "metadata": {},
   "outputs": [],
   "source": [
    "bst.save_model('../models/0001.model')\n",
    "# dump model\n",
    "bst.dump_model('../models/0001_dump.raw.txt')\n",
    "# dump model with feature map\n",
    "bst.dump_model('../models/0001_dump.nice.txt')"
   ]
  },
  {
   "cell_type": "markdown",
   "metadata": {},
   "source": [
    "# Hyperparameter Tuning"
   ]
  },
  {
   "cell_type": "markdown",
   "metadata": {},
   "source": [
    "The first parameter we will look at is not part of the default params dictionary, but will be passed as a standalone argument to the training method. This parameter is called **\"num_boost_round\"** and corresponds to the number of boosting rounds or trees to build. Its optimal value highly depends on the other parameters, and thus it should be re-tuned each time you update a parameter.\n",
    "\n",
    "Tuning it together with all parameters can be done in a grid-search, but it requires a lot of computational effort.\n",
    "\n",
    "Fortunately XGBoost provides a nice way to find the best number of rounds whilst training. Since trees are built sequentially, instead of fixing the number of rounds at the beginning, we can test our model at each step and see if adding a new tree/round improves performance.\n",
    "\n",
    "To do so, we define a validation dataset and a metric that is used to assess performance at each round. If performance haven’t improved for N rounds (N is defined by the variable **\"early_stopping_round\"**), we stop the training and keep the best number of boosting rounds. \n",
    "\n",
    "We will pass a **\"num_boost_round\"** which corresponds to the maximum number of boosting rounds that we allow. We set it to a large value hoping to find the optimal number of rounds before reaching it, if we haven't improved performance on our test dataset in early_stopping_round rounds"
   ]
  },
  {
   "cell_type": "markdown",
   "metadata": {},
   "source": [
    "## Number Boost Round and Early Stopping Rounds"
   ]
  },
  {
   "cell_type": "code",
   "execution_count": 8,
   "metadata": {},
   "outputs": [],
   "source": [
    "# Define a default parameters to begin with as a \"param\" dictionary\n",
    "param = {'max_depth': 6, \n",
    "         'min_child_weight': 1,\n",
    "         'eta': 0.3, \n",
    "         'subsample': 1,\n",
    "         'colsample_bytree': 1,\n",
    "         'objective': 'binary:logistic'}"
   ]
  },
  {
   "cell_type": "code",
   "execution_count": 9,
   "metadata": {},
   "outputs": [],
   "source": [
    "# Add the evaluation metric to the param dictionary\n",
    "param['eval_metric'] = \"auc\"\n",
    "\n",
    "# set \"num_boost_rounds\" to a large number\n",
    "num_boost_round = 999"
   ]
  },
  {
   "cell_type": "code",
   "execution_count": 98,
   "metadata": {},
   "outputs": [
    {
     "name": "stdout",
     "output_type": "stream",
     "text": [
      "[0]\tValidation-auc:0.54458\n",
      "Will train until Validation-auc hasn't improved in 10 rounds.\n",
      "[1]\tValidation-auc:0.552465\n",
      "[2]\tValidation-auc:0.554492\n",
      "[3]\tValidation-auc:0.558288\n",
      "[4]\tValidation-auc:0.567015\n",
      "[5]\tValidation-auc:0.573127\n",
      "[6]\tValidation-auc:0.57403\n",
      "[7]\tValidation-auc:0.573055\n",
      "[8]\tValidation-auc:0.573107\n",
      "[9]\tValidation-auc:0.575311\n",
      "[10]\tValidation-auc:0.576368\n",
      "[11]\tValidation-auc:0.578053\n",
      "[12]\tValidation-auc:0.575459\n",
      "[13]\tValidation-auc:0.579737\n",
      "[14]\tValidation-auc:0.57889\n",
      "[15]\tValidation-auc:0.579709\n",
      "[16]\tValidation-auc:0.580606\n",
      "[17]\tValidation-auc:0.582377\n",
      "[18]\tValidation-auc:0.584218\n",
      "[19]\tValidation-auc:0.585463\n",
      "[20]\tValidation-auc:0.584919\n",
      "[21]\tValidation-auc:0.586799\n",
      "[22]\tValidation-auc:0.587925\n",
      "[23]\tValidation-auc:0.589869\n",
      "[24]\tValidation-auc:0.589816\n",
      "[25]\tValidation-auc:0.591163\n",
      "[26]\tValidation-auc:0.588882\n",
      "[27]\tValidation-auc:0.586725\n",
      "[28]\tValidation-auc:0.584564\n",
      "[29]\tValidation-auc:0.585482\n",
      "[30]\tValidation-auc:0.584084\n",
      "[31]\tValidation-auc:0.583593\n",
      "[32]\tValidation-auc:0.58268\n",
      "[33]\tValidation-auc:0.581614\n",
      "[34]\tValidation-auc:0.581392\n",
      "[35]\tValidation-auc:0.581978\n",
      "Stopping. Best iteration:\n",
      "[25]\tValidation-auc:0.591163\n",
      "\n"
     ]
    }
   ],
   "source": [
    "model_001 = xgb.train(param, dtrain, num_boost_round=num_boost_round, evals=[(dvalidation, \"Validation\")], early_stopping_rounds=10)"
   ]
  },
  {
   "cell_type": "code",
   "execution_count": 99,
   "metadata": {},
   "outputs": [
    {
     "name": "stdout",
     "output_type": "stream",
     "text": [
      "Best AUC: 0.59 with 26 rounds\n"
     ]
    }
   ],
   "source": [
    "print(\"Best AUC: {:.2f} with {} rounds\".format(\n",
    "                 model_001.best_score,\n",
    "                 model_001.best_iteration+1))"
   ]
  },
  {
   "cell_type": "markdown",
   "metadata": {},
   "source": [
    "The training stopped before reaching the maximum number of boosting rounds (999), that’s because after the 26th tree, adding more rounds did not lead to improvements of AUC on the validation dataset.\n",
    "\n",
    "The AUC is 0.59 with default parameters and an optimal number of boosting rounds, on the validation dataset."
   ]
  },
  {
   "cell_type": "markdown",
   "metadata": {},
   "source": [
    "# Using XGBoost’s CV"
   ]
  },
  {
   "cell_type": "markdown",
   "metadata": {},
   "source": [
    "In order to tune the other hyperparameters, we will use the cv function from XGBoost. It allows us to run cross-validation on our training dataset and returns a mean AUC score.\n",
    "\n",
    "We need to pass it:\n",
    "* **params**: our dictionary of parameters.\n",
    "\n",
    "* **our dtrain matrix**.\n",
    "\n",
    "* **num_boost_round**: number of boosting rounds. We will use a large number again and count on **early_stopping_rounds** to find the optimal number of rounds before reaching the maximum.\n",
    "\n",
    "* **seed**: random seed. It's important to set a seed here, to ensure we are using the same folds for each step so we can properly compare the scores with different parameters.\n",
    "\n",
    "* **nfold**: the number of folds to use for cross-validation\n",
    "\n",
    "* **metrics**: the metrics to use to evaluate our model, here we use **AUC**.\n",
    "\n",
    "There is no need to pass a test dataset here. It’s because the cross-validation function is splitting the train dataset into nfolds and iteratively keeps one of the folds for test purposes. "
   ]
  },
  {
   "cell_type": "markdown",
   "metadata": {},
   "source": [
    "## Cross validation score with default parameters"
   ]
  },
  {
   "cell_type": "code",
   "execution_count": 107,
   "metadata": {},
   "outputs": [
    {
     "data": {
      "text/html": [
       "<div>\n",
       "<style scoped>\n",
       "    .dataframe tbody tr th:only-of-type {\n",
       "        vertical-align: middle;\n",
       "    }\n",
       "\n",
       "    .dataframe tbody tr th {\n",
       "        vertical-align: top;\n",
       "    }\n",
       "\n",
       "    .dataframe thead th {\n",
       "        text-align: right;\n",
       "    }\n",
       "</style>\n",
       "<table border=\"1\" class=\"dataframe\">\n",
       "  <thead>\n",
       "    <tr style=\"text-align: right;\">\n",
       "      <th></th>\n",
       "      <th>train-auc-mean</th>\n",
       "      <th>train-auc-std</th>\n",
       "      <th>test-auc-mean</th>\n",
       "      <th>test-auc-std</th>\n",
       "    </tr>\n",
       "  </thead>\n",
       "  <tbody>\n",
       "    <tr>\n",
       "      <th>0</th>\n",
       "      <td>0.623693</td>\n",
       "      <td>0.000864</td>\n",
       "      <td>0.623666</td>\n",
       "      <td>0.003424</td>\n",
       "    </tr>\n",
       "    <tr>\n",
       "      <th>1</th>\n",
       "      <td>0.670518</td>\n",
       "      <td>0.000914</td>\n",
       "      <td>0.670510</td>\n",
       "      <td>0.003660</td>\n",
       "    </tr>\n",
       "    <tr>\n",
       "      <th>2</th>\n",
       "      <td>0.708491</td>\n",
       "      <td>0.000616</td>\n",
       "      <td>0.708416</td>\n",
       "      <td>0.004882</td>\n",
       "    </tr>\n",
       "    <tr>\n",
       "      <th>3</th>\n",
       "      <td>0.737613</td>\n",
       "      <td>0.000677</td>\n",
       "      <td>0.737446</td>\n",
       "      <td>0.007267</td>\n",
       "    </tr>\n",
       "    <tr>\n",
       "      <th>4</th>\n",
       "      <td>0.768219</td>\n",
       "      <td>0.000864</td>\n",
       "      <td>0.768418</td>\n",
       "      <td>0.005216</td>\n",
       "    </tr>\n",
       "    <tr>\n",
       "      <th>...</th>\n",
       "      <td>...</td>\n",
       "      <td>...</td>\n",
       "      <td>...</td>\n",
       "      <td>...</td>\n",
       "    </tr>\n",
       "    <tr>\n",
       "      <th>125</th>\n",
       "      <td>0.959062</td>\n",
       "      <td>0.002151</td>\n",
       "      <td>0.955588</td>\n",
       "      <td>0.001537</td>\n",
       "    </tr>\n",
       "    <tr>\n",
       "      <th>126</th>\n",
       "      <td>0.959073</td>\n",
       "      <td>0.002123</td>\n",
       "      <td>0.955649</td>\n",
       "      <td>0.001500</td>\n",
       "    </tr>\n",
       "    <tr>\n",
       "      <th>127</th>\n",
       "      <td>0.959115</td>\n",
       "      <td>0.002123</td>\n",
       "      <td>0.955695</td>\n",
       "      <td>0.001516</td>\n",
       "    </tr>\n",
       "    <tr>\n",
       "      <th>128</th>\n",
       "      <td>0.959163</td>\n",
       "      <td>0.002164</td>\n",
       "      <td>0.955745</td>\n",
       "      <td>0.001510</td>\n",
       "    </tr>\n",
       "    <tr>\n",
       "      <th>129</th>\n",
       "      <td>0.959235</td>\n",
       "      <td>0.002167</td>\n",
       "      <td>0.955762</td>\n",
       "      <td>0.001534</td>\n",
       "    </tr>\n",
       "  </tbody>\n",
       "</table>\n",
       "<p>130 rows × 4 columns</p>\n",
       "</div>"
      ],
      "text/plain": [
       "     train-auc-mean  train-auc-std  test-auc-mean  test-auc-std\n",
       "0          0.623693       0.000864       0.623666      0.003424\n",
       "1          0.670518       0.000914       0.670510      0.003660\n",
       "2          0.708491       0.000616       0.708416      0.004882\n",
       "3          0.737613       0.000677       0.737446      0.007267\n",
       "4          0.768219       0.000864       0.768418      0.005216\n",
       "..              ...            ...            ...           ...\n",
       "125        0.959062       0.002151       0.955588      0.001537\n",
       "126        0.959073       0.002123       0.955649      0.001500\n",
       "127        0.959115       0.002123       0.955695      0.001516\n",
       "128        0.959163       0.002164       0.955745      0.001510\n",
       "129        0.959235       0.002167       0.955762      0.001534\n",
       "\n",
       "[130 rows x 4 columns]"
      ]
     },
     "execution_count": 107,
     "metadata": {},
     "output_type": "execute_result"
    }
   ],
   "source": [
    "cv_results = xgb.cv(param,\n",
    "                    dtrain,\n",
    "                    num_boost_round=num_boost_round,\n",
    "                    seed=42,\n",
    "                    nfold=5,\n",
    "                    metrics={\"auc\"},\n",
    "                    early_stopping_rounds=10)\n",
    "cv_results"
   ]
  },
  {
   "cell_type": "code",
   "execution_count": 111,
   "metadata": {},
   "outputs": [
    {
     "name": "stdout",
     "output_type": "stream",
     "text": [
      "Test-AUC-Mean 0.9557624\n"
     ]
    }
   ],
   "source": [
    "print(\"Test-AUC-Mean {}\".format(cv_results[\"test-auc-mean\"].max()))"
   ]
  },
  {
   "cell_type": "markdown",
   "metadata": {},
   "source": [
    "## max_depth and min_child_weight"
   ]
  },
  {
   "cell_type": "markdown",
   "metadata": {},
   "source": [
    "These parameters add constraints on the architecture of the trees and prevent overfitting. Tuning these parameters find a good trade-off between model bias and variance.\n",
    "\n",
    "**max_depth** - is the maximum number of nodes allowed from the root to the farthest leaf of a tree. Deeper trees can model more complex relationships by adding more nodes, but as we go deeper, splits become less relevant and are sometimes only due to noise, causing the model to overfit.\n",
    "\n",
    "**min_child_weight** -  is the minimum weight (or number of samples if all samples have a weight of 1) required in order to create a new node in the tree. A smaller min_child_weight allows the algorithm to create children that correspond to fewer samples, thus allowing for more complex trees, but again, more likely to overfit."
   ]
  },
  {
   "cell_type": "code",
   "execution_count": 120,
   "metadata": {},
   "outputs": [],
   "source": [
    "# Define a grid for these two parameters\n",
    "param_grid = [(max_depth, min_child_weight)\n",
    "              for max_depth in range(9, 12) for min_child_weight in range(5,8)]"
   ]
  },
  {
   "cell_type": "code",
   "execution_count": 121,
   "metadata": {},
   "outputs": [],
   "source": []
  },
  {
   "cell_type": "code",
   "execution_count": 123,
   "metadata": {},
   "outputs": [
    {
     "name": "stderr",
     "output_type": "stream",
     "text": [
      "\r",
      "  0%|          | 0/9 [00:00<?, ?it/s]"
     ]
    },
    {
     "name": "stdout",
     "output_type": "stream",
     "text": [
      "CV with max_depth = 9 and min_child_weight = 5\n"
     ]
    },
    {
     "name": "stderr",
     "output_type": "stream",
     "text": [
      "\r",
      " 11%|█         | 1/9 [03:54<31:15, 234.38s/it]"
     ]
    },
    {
     "name": "stdout",
     "output_type": "stream",
     "text": [
      "\tAUC 0.9599016666666667 for 29 rounds\n",
      "CV with max_depth = 9 and min_child_weight = 6\n"
     ]
    },
    {
     "name": "stderr",
     "output_type": "stream",
     "text": [
      "\r",
      " 22%|██▏       | 2/9 [08:05<27:54, 239.25s/it]"
     ]
    },
    {
     "name": "stdout",
     "output_type": "stream",
     "text": [
      "\tAUC 0.959372 for 35 rounds\n",
      "CV with max_depth = 9 and min_child_weight = 7\n"
     ]
    },
    {
     "name": "stderr",
     "output_type": "stream",
     "text": [
      "\r",
      " 33%|███▎      | 3/9 [12:14<24:14, 242.45s/it]"
     ]
    },
    {
     "name": "stdout",
     "output_type": "stream",
     "text": [
      "\tAUC 0.9602056666666666 for 32 rounds\n",
      "CV with max_depth = 10 and min_child_weight = 5\n"
     ]
    },
    {
     "name": "stderr",
     "output_type": "stream",
     "text": [
      "\r",
      " 44%|████▍     | 4/9 [16:31<20:32, 246.56s/it]"
     ]
    },
    {
     "name": "stdout",
     "output_type": "stream",
     "text": [
      "\tAUC 0.960337 for 28 rounds\n",
      "CV with max_depth = 10 and min_child_weight = 6\n"
     ]
    },
    {
     "name": "stderr",
     "output_type": "stream",
     "text": [
      "\r",
      " 56%|█████▌    | 5/9 [21:30<17:29, 262.50s/it]"
     ]
    },
    {
     "name": "stdout",
     "output_type": "stream",
     "text": [
      "\tAUC 0.9589059999999999 for 32 rounds\n",
      "CV with max_depth = 10 and min_child_weight = 7\n"
     ]
    },
    {
     "name": "stderr",
     "output_type": "stream",
     "text": [
      "\r",
      " 67%|██████▋   | 6/9 [25:18<12:36, 252.01s/it]"
     ]
    },
    {
     "name": "stdout",
     "output_type": "stream",
     "text": [
      "\tAUC 0.9600673333333334 for 25 rounds\n",
      "CV with max_depth = 11 and min_child_weight = 5\n"
     ]
    },
    {
     "name": "stderr",
     "output_type": "stream",
     "text": [
      "\r",
      " 78%|███████▊  | 7/9 [29:48<08:34, 257.45s/it]"
     ]
    },
    {
     "name": "stdout",
     "output_type": "stream",
     "text": [
      "\tAUC 0.9604739999999999 for 31 rounds\n",
      "CV with max_depth = 11 and min_child_weight = 6\n"
     ]
    },
    {
     "name": "stderr",
     "output_type": "stream",
     "text": [
      "\r",
      " 89%|████████▉ | 8/9 [32:54<03:55, 235.96s/it]"
     ]
    },
    {
     "name": "stdout",
     "output_type": "stream",
     "text": [
      "\tAUC 0.9604316666666666 for 18 rounds\n",
      "CV with max_depth = 11 and min_child_weight = 7\n"
     ]
    },
    {
     "name": "stderr",
     "output_type": "stream",
     "text": [
      "100%|██████████| 9/9 [36:29<00:00, 243.29s/it]"
     ]
    },
    {
     "name": "stdout",
     "output_type": "stream",
     "text": [
      "\tAUC 0.960932 for 23 rounds\n",
      "Best params: 11, 7, AUC: 0.960932\n"
     ]
    },
    {
     "name": "stderr",
     "output_type": "stream",
     "text": [
      "\n"
     ]
    }
   ],
   "source": [
    "# Define initial best params and AUC\n",
    "max_auc = float(\"-Inf\")\n",
    "best_params = None\n",
    "\n",
    "for max_depth, min_child_weight in tqdm(param_grid):\n",
    "    print(\"CV with max_depth = {} and min_child_weight = {}\".format(\n",
    "        max_depth, min_child_weight))\n",
    "    \n",
    "    # Update our parameters\n",
    "    param['max_depth'] = max_depth\n",
    "    param['min_child_weight'] = min_child_weight\n",
    "    \n",
    "    # Run CV\n",
    "    cv_results = xgb.cv(param,\n",
    "                        dtrain,\n",
    "                        num_boost_round=num_boost_round,\n",
    "                        seed=42,\n",
    "                        nfold=3,\n",
    "                        metrics={\"auc\"},\n",
    "                        early_stopping_rounds=10,\n",
    "                        as_pandas=True)\n",
    "    # Update best MAE\n",
    "    mean_auc = cv_results['test-auc-mean'].max()\n",
    "    boost_rounds = cv_results['test-auc-mean'].argmax()\n",
    "    print(\"\\tAUC {} for {} rounds\".format(mean_auc, boost_rounds))\n",
    "    if mean_auc > max_auc:\n",
    "        max_auc = mean_auc\n",
    "        best_params = (max_depth, min_child_weight)\n",
    "print(\"Best params: {}, {}, AUC: {}\".format(best_params[0], best_params[1], max_auc))"
   ]
  },
  {
   "cell_type": "markdown",
   "metadata": {},
   "source": [
    "We get the best score with a max_depth of 11 and min_child_weight of 7, so let's update our param dict:"
   ]
  },
  {
   "cell_type": "code",
   "execution_count": 10,
   "metadata": {},
   "outputs": [],
   "source": [
    "param['max_depth'] = 11\n",
    "param['min_child_weight'] = 7"
   ]
  },
  {
   "cell_type": "markdown",
   "metadata": {},
   "source": [
    "## Subsample and Colsample_bytrees"
   ]
  },
  {
   "cell_type": "markdown",
   "metadata": {},
   "source": [
    "These parameters control the sampling of the dataset that is done at each boosting round.\n",
    "\n",
    "Instead of using the whole training set every time, we can build a tree on slightly different data at each step, which makes it less likely to overfit to a single sample or feature.\n",
    "\n",
    "**subsample** corresponds to the fraction of observations (the rows) to subsample at each step. By default it is set to 1 meaning that we use all rows.\n",
    "**colsample_bytree** corresponds to the fraction of features (the columns) to use. By default it is set to 1 meaning that we will use all features."
   ]
  },
  {
   "cell_type": "code",
   "execution_count": 129,
   "metadata": {},
   "outputs": [
    {
     "data": {
      "text/plain": [
       "[0.7, 0.8, 0.9, 1.0]"
      ]
     },
     "execution_count": 129,
     "metadata": {},
     "output_type": "execute_result"
    }
   ],
   "source": [
    "[i/10. for i in range(7, 11)]"
   ]
  },
  {
   "cell_type": "code",
   "execution_count": 130,
   "metadata": {},
   "outputs": [],
   "source": [
    "param_grid = [(subsample, colsample)\n",
    "              for subsample in [i/10. for i in range(7, 11)]\n",
    "              for colsample in [i/10. for i in range(7, 11)]]"
   ]
  },
  {
   "cell_type": "code",
   "execution_count": 131,
   "metadata": {},
   "outputs": [
    {
     "name": "stderr",
     "output_type": "stream",
     "text": [
      "\r",
      "  0%|          | 0/16 [00:00<?, ?it/s]"
     ]
    },
    {
     "name": "stdout",
     "output_type": "stream",
     "text": [
      "CV with subsample = 0.7 and colsample = 0.7\n"
     ]
    },
    {
     "name": "stderr",
     "output_type": "stream",
     "text": [
      "\r",
      "  6%|▋         | 1/16 [09:12<2:18:09, 552.62s/it]"
     ]
    },
    {
     "name": "stdout",
     "output_type": "stream",
     "text": [
      "\tAUC 0.9581206666666667 for 31 rounds\n",
      "CV with subsample = 0.7 and colsample = 0.8\n"
     ]
    },
    {
     "name": "stderr",
     "output_type": "stream",
     "text": [
      "\r",
      " 12%|█▎        | 2/16 [14:31<1:52:33, 482.41s/it]"
     ]
    },
    {
     "name": "stdout",
     "output_type": "stream",
     "text": [
      "\tAUC 0.9592156666666667 for 32 rounds\n",
      "CV with subsample = 0.7 and colsample = 0.9\n"
     ]
    },
    {
     "name": "stderr",
     "output_type": "stream",
     "text": [
      "\r",
      " 19%|█▉        | 3/16 [18:14<1:27:41, 404.69s/it]"
     ]
    },
    {
     "name": "stdout",
     "output_type": "stream",
     "text": [
      "\tAUC 0.9589196666666666 for 17 rounds\n",
      "CV with subsample = 0.7 and colsample = 1.0\n"
     ]
    },
    {
     "name": "stderr",
     "output_type": "stream",
     "text": [
      "\r",
      " 25%|██▌       | 4/16 [22:02<1:10:18, 351.52s/it]"
     ]
    },
    {
     "name": "stdout",
     "output_type": "stream",
     "text": [
      "\tAUC 0.9596766666666667 for 18 rounds\n",
      "CV with subsample = 0.8 and colsample = 0.7\n"
     ]
    },
    {
     "name": "stderr",
     "output_type": "stream",
     "text": [
      "\r",
      " 31%|███▏      | 5/16 [26:46<1:00:44, 331.32s/it]"
     ]
    },
    {
     "name": "stdout",
     "output_type": "stream",
     "text": [
      "\tAUC 0.959078 for 27 rounds\n",
      "CV with subsample = 0.8 and colsample = 0.8\n"
     ]
    },
    {
     "name": "stderr",
     "output_type": "stream",
     "text": [
      "\r",
      " 38%|███▊      | 6/16 [32:03<54:30, 327.06s/it]  "
     ]
    },
    {
     "name": "stdout",
     "output_type": "stream",
     "text": [
      "\tAUC 0.9593223333333333 for 32 rounds\n",
      "CV with subsample = 0.8 and colsample = 0.9\n"
     ]
    },
    {
     "name": "stderr",
     "output_type": "stream",
     "text": [
      "\r",
      " 44%|████▍     | 7/16 [35:45<44:21, 295.74s/it]"
     ]
    },
    {
     "name": "stdout",
     "output_type": "stream",
     "text": [
      "\tAUC 0.959512 for 18 rounds\n",
      "CV with subsample = 0.8 and colsample = 1.0\n"
     ]
    },
    {
     "name": "stderr",
     "output_type": "stream",
     "text": [
      "\r",
      " 50%|█████     | 8/16 [39:49<37:21, 280.22s/it]"
     ]
    },
    {
     "name": "stdout",
     "output_type": "stream",
     "text": [
      "\tAUC 0.9599773333333333 for 20 rounds\n",
      "CV with subsample = 0.9 and colsample = 0.7\n"
     ]
    },
    {
     "name": "stderr",
     "output_type": "stream",
     "text": [
      "\r",
      " 56%|█████▋    | 9/16 [43:08<29:50, 255.78s/it]"
     ]
    },
    {
     "name": "stdout",
     "output_type": "stream",
     "text": [
      "\tAUC 0.9595546666666667 for 25 rounds\n",
      "CV with subsample = 0.9 and colsample = 0.8\n"
     ]
    },
    {
     "name": "stderr",
     "output_type": "stream",
     "text": [
      "\r",
      " 62%|██████▎   | 10/16 [46:47<24:28, 244.76s/it]"
     ]
    },
    {
     "name": "stdout",
     "output_type": "stream",
     "text": [
      "\tAUC 0.959197 for 25 rounds\n",
      "CV with subsample = 0.9 and colsample = 0.9\n"
     ]
    },
    {
     "name": "stderr",
     "output_type": "stream",
     "text": [
      "\r",
      " 69%|██████▉   | 11/16 [50:23<19:39, 235.97s/it]"
     ]
    },
    {
     "name": "stdout",
     "output_type": "stream",
     "text": [
      "\tAUC 0.9601259999999999 for 22 rounds\n",
      "CV with subsample = 0.9 and colsample = 1.0\n"
     ]
    },
    {
     "name": "stderr",
     "output_type": "stream",
     "text": [
      "\r",
      " 75%|███████▌  | 12/16 [56:26<18:16, 274.11s/it]"
     ]
    },
    {
     "name": "stdout",
     "output_type": "stream",
     "text": [
      "\tAUC 0.9605743333333333 for 26 rounds\n",
      "CV with subsample = 1.0 and colsample = 0.7\n"
     ]
    },
    {
     "name": "stderr",
     "output_type": "stream",
     "text": [
      "\r",
      " 81%|████████▏ | 13/16 [1:00:18<13:04, 261.65s/it]"
     ]
    },
    {
     "name": "stdout",
     "output_type": "stream",
     "text": [
      "\tAUC 0.9599286666666668 for 28 rounds\n",
      "CV with subsample = 1.0 and colsample = 0.8\n"
     ]
    },
    {
     "name": "stderr",
     "output_type": "stream",
     "text": [
      "\r",
      " 88%|████████▊ | 14/16 [1:03:37<08:05, 242.63s/it]"
     ]
    },
    {
     "name": "stdout",
     "output_type": "stream",
     "text": [
      "\tAUC 0.9595053333333334 for 24 rounds\n",
      "CV with subsample = 1.0 and colsample = 0.9\n"
     ]
    },
    {
     "name": "stderr",
     "output_type": "stream",
     "text": [
      "\r",
      " 94%|█████████▍| 15/16 [1:07:14<03:54, 235.00s/it]"
     ]
    },
    {
     "name": "stdout",
     "output_type": "stream",
     "text": [
      "\tAUC 0.959482 for 20 rounds\n",
      "CV with subsample = 1.0 and colsample = 1.0\n"
     ]
    },
    {
     "name": "stderr",
     "output_type": "stream",
     "text": [
      "100%|██████████| 16/16 [1:11:05<00:00, 266.62s/it]"
     ]
    },
    {
     "name": "stdout",
     "output_type": "stream",
     "text": [
      "\tAUC 0.960932 for 23 rounds\n",
      "Best params: 1.0, 1.0, AUC: 0.960932\n"
     ]
    },
    {
     "name": "stderr",
     "output_type": "stream",
     "text": [
      "\n"
     ]
    }
   ],
   "source": [
    "# Define initial best params and AUC\n",
    "max_auc = float(\"-Inf\")\n",
    "best_params = None\n",
    "\n",
    "\n",
    "# iterate over the sample space\n",
    "for subsample, colsample in tqdm(param_grid ):\n",
    "    print(\"CV with subsample = {} and colsample = {}\".format(\n",
    "        subsample, colsample))\n",
    "    \n",
    "    # Update our parameters\n",
    "    param['subsample'] = subsample\n",
    "    param['colsample_bytree'] = colsample\n",
    "    \n",
    "    # Run CV\n",
    "    cv_results = xgb.cv(param,\n",
    "                        dtrain,\n",
    "                        num_boost_round=num_boost_round,\n",
    "                        seed=42,\n",
    "                        nfold=3,\n",
    "                        metrics={\"auc\"},\n",
    "                        early_stopping_rounds=10,\n",
    "                        as_pandas=True)\n",
    "    # Update best MAE\n",
    "    mean_auc = cv_results['test-auc-mean'].max()\n",
    "    boost_rounds = cv_results['test-auc-mean'].argmax()\n",
    "    print(\"\\tAUC {} for {} rounds\".format(mean_auc, boost_rounds))\n",
    "    if mean_auc > max_auc:\n",
    "        max_auc = mean_auc\n",
    "        best_params = (subsample, colsample)\n",
    "print(\"Best params: {}, {}, AUC: {}\".format(best_params[0], best_params[1], max_auc))"
   ]
  },
  {
   "cell_type": "code",
   "execution_count": 11,
   "metadata": {},
   "outputs": [],
   "source": [
    "param['subsample'] = 1.\n",
    "param['colsample_bytree'] = 1."
   ]
  },
  {
   "cell_type": "markdown",
   "metadata": {},
   "source": [
    "## ETA"
   ]
  },
  {
   "cell_type": "markdown",
   "metadata": {},
   "source": [
    "The ETA parameter controls the learning rate. It corresponds to the shrinkage of the weights associated to features after each round, in other words it defines the amount of \"correction\" we make at each step\n",
    "In practice, having a lower eta makes our model more robust to overfitting thus, usually, the lower the learning rate, the best. But with a lower eta, we need more boosting rounds, which takes more time to train, sometimes for only marginal improvements. Let's try a couple of values here, and time them with the notebook command:bbb"
   ]
  },
  {
   "cell_type": "code",
   "execution_count": 18,
   "metadata": {},
   "outputs": [
    {
     "name": "stderr",
     "output_type": "stream",
     "text": [
      "\r",
      "  0%|          | 0/6 [00:00<?, ?it/s]"
     ]
    },
    {
     "name": "stdout",
     "output_type": "stream",
     "text": [
      "CV with eta=0.3\n",
      "CPU times: user 2 µs, sys: 0 ns, total: 2 µs\n",
      "Wall time: 5.01 µs\n"
     ]
    },
    {
     "name": "stderr",
     "output_type": "stream",
     "text": [
      "\r",
      " 17%|█▋        | 1/6 [10:29<52:26, 629.36s/it]"
     ]
    },
    {
     "name": "stdout",
     "output_type": "stream",
     "text": [
      "\tAUC 0.9644202 for 43 rounds\n",
      "\n",
      "CV with eta=0.2\n",
      "CPU times: user 3 µs, sys: 1 µs, total: 4 µs\n",
      "Wall time: 7.87 µs\n"
     ]
    },
    {
     "name": "stderr",
     "output_type": "stream",
     "text": [
      "\r",
      " 33%|███▎      | 2/6 [2:25:46<3:11:42, 2875.72s/it]"
     ]
    },
    {
     "name": "stdout",
     "output_type": "stream",
     "text": [
      "\tAUC 0.9649552 for 58 rounds\n",
      "\n",
      "CV with eta=0.1\n",
      "CPU times: user 3 µs, sys: 1e+03 ns, total: 4 µs\n",
      "Wall time: 5.96 µs\n"
     ]
    },
    {
     "name": "stderr",
     "output_type": "stream",
     "text": [
      "\r",
      " 50%|█████     | 3/6 [3:47:39<2:54:20, 3486.82s/it]"
     ]
    },
    {
     "name": "stdout",
     "output_type": "stream",
     "text": [
      "\tAUC 0.9655692 for 109 rounds\n",
      "\n",
      "CV with eta=0.05\n",
      "CPU times: user 2 µs, sys: 0 ns, total: 2 µs\n",
      "Wall time: 4.77 µs\n"
     ]
    },
    {
     "name": "stderr",
     "output_type": "stream",
     "text": [
      "\r",
      " 67%|██████▋   | 4/6 [5:32:17<2:24:08, 4324.10s/it]"
     ]
    },
    {
     "name": "stdout",
     "output_type": "stream",
     "text": [
      "\tAUC 0.9653751999999999 for 184 rounds\n",
      "\n",
      "CV with eta=0.01\n",
      "CPU times: user 2 µs, sys: 0 ns, total: 2 µs\n",
      "Wall time: 5.25 µs\n"
     ]
    },
    {
     "name": "stderr",
     "output_type": "stream",
     "text": [
      "\r",
      " 83%|████████▎ | 5/6 [10:03:13<2:11:43, 7903.95s/it]"
     ]
    },
    {
     "name": "stdout",
     "output_type": "stream",
     "text": [
      "\tAUC 0.96549 for 996 rounds\n",
      "\n",
      "CV with eta=0.005\n",
      "CPU times: user 4 µs, sys: 7 µs, total: 11 µs\n",
      "Wall time: 29.8 µs\n"
     ]
    },
    {
     "name": "stderr",
     "output_type": "stream",
     "text": [
      "100%|██████████| 6/6 [25:32:58<00:00, 15329.70s/it] "
     ]
    },
    {
     "name": "stdout",
     "output_type": "stream",
     "text": [
      "\tAUC 0.9642986 for 998 rounds\n",
      "\n",
      "Best params: None, AUC: -inf\n"
     ]
    },
    {
     "name": "stderr",
     "output_type": "stream",
     "text": [
      "\n"
     ]
    }
   ],
   "source": [
    "# Define initial best params and AUC\n",
    "max_auc = float(\"-Inf\")\n",
    "best_params = None\n",
    "\n",
    "\n",
    "for eta in tqdm([.3, .2, .1, .05, .01, .005]):\n",
    "    print(\"CV with eta={}\".format(eta))\n",
    "    # We update our parameters\n",
    "    param['eta'] = eta\n",
    "    # Run and time CV\n",
    "    %time \n",
    "    cv_results = xgb.cv(\n",
    "        param,\n",
    "        dtrain,\n",
    "        num_boost_round=num_boost_round,\n",
    "        seed=42,\n",
    "        nfold=5,\n",
    "        metrics={\"auc\"},\n",
    "        early_stopping_rounds=10\n",
    "    )\n",
    "    # Update best score\n",
    "    mean_auc = cv_results['test-auc-mean'].max()\n",
    "    boost_rounds = cv_results['test-auc-mean'].argmax()\n",
    "    print(\"\\tAUC {} for {} rounds\\n\".format(mean_auc, boost_rounds))\n",
    "    if mean_auc < max_auc:\n",
    "        max_auc = mean_auc\n",
    "        best_params = eta\n",
    "print(\"Best params: {}, AUC: {}\".format(best_params, max_auc))"
   ]
  },
  {
   "cell_type": "code",
   "execution_count": 12,
   "metadata": {},
   "outputs": [],
   "source": [
    "param['eta'] = 0.1"
   ]
  },
  {
   "cell_type": "markdown",
   "metadata": {},
   "source": [
    "## Tuning Results Hyperparameters"
   ]
  },
  {
   "cell_type": "code",
   "execution_count": 13,
   "metadata": {},
   "outputs": [
    {
     "data": {
      "text/plain": [
       "{'max_depth': 11,\n",
       " 'min_child_weight': 7,\n",
       " 'eta': 0.1,\n",
       " 'subsample': 1.0,\n",
       " 'colsample_bytree': 1.0,\n",
       " 'objective': 'binary:logistic',\n",
       " 'eval_metric': 'auc'}"
      ]
     },
     "execution_count": 13,
     "metadata": {},
     "output_type": "execute_result"
    }
   ],
   "source": [
    "param"
   ]
  },
  {
   "cell_type": "markdown",
   "metadata": {},
   "source": [
    "# Final Model"
   ]
  },
  {
   "cell_type": "code",
   "execution_count": 17,
   "metadata": {},
   "outputs": [
    {
     "name": "stdout",
     "output_type": "stream",
     "text": [
      "[0]\tValidation-auc:0.553303\n",
      "Will train until Validation-auc hasn't improved in 20 rounds.\n",
      "[1]\tValidation-auc:0.557079\n",
      "[2]\tValidation-auc:0.559656\n",
      "[3]\tValidation-auc:0.562852\n",
      "[4]\tValidation-auc:0.562811\n",
      "[5]\tValidation-auc:0.562513\n",
      "[6]\tValidation-auc:0.562838\n",
      "[7]\tValidation-auc:0.564833\n",
      "[8]\tValidation-auc:0.564798\n",
      "[9]\tValidation-auc:0.567778\n",
      "[10]\tValidation-auc:0.566211\n",
      "[11]\tValidation-auc:0.566508\n",
      "[12]\tValidation-auc:0.567766\n",
      "[13]\tValidation-auc:0.569518\n",
      "[14]\tValidation-auc:0.570784\n",
      "[15]\tValidation-auc:0.571355\n",
      "[16]\tValidation-auc:0.572737\n",
      "[17]\tValidation-auc:0.574034\n",
      "[18]\tValidation-auc:0.574788\n",
      "[19]\tValidation-auc:0.575801\n",
      "[20]\tValidation-auc:0.576442\n",
      "[21]\tValidation-auc:0.5771\n",
      "[22]\tValidation-auc:0.577161\n",
      "[23]\tValidation-auc:0.577532\n",
      "[24]\tValidation-auc:0.577915\n",
      "[25]\tValidation-auc:0.578445\n",
      "[26]\tValidation-auc:0.577873\n",
      "[27]\tValidation-auc:0.58054\n",
      "[28]\tValidation-auc:0.581033\n",
      "[29]\tValidation-auc:0.580472\n",
      "[30]\tValidation-auc:0.580667\n",
      "[31]\tValidation-auc:0.580733\n",
      "[32]\tValidation-auc:0.582677\n",
      "[33]\tValidation-auc:0.583736\n",
      "[34]\tValidation-auc:0.583427\n",
      "[35]\tValidation-auc:0.583519\n",
      "[36]\tValidation-auc:0.585152\n",
      "[37]\tValidation-auc:0.584401\n",
      "[38]\tValidation-auc:0.584613\n",
      "[39]\tValidation-auc:0.585177\n",
      "[40]\tValidation-auc:0.585536\n",
      "[41]\tValidation-auc:0.586579\n",
      "[42]\tValidation-auc:0.588024\n",
      "[43]\tValidation-auc:0.588526\n",
      "[44]\tValidation-auc:0.588331\n",
      "[45]\tValidation-auc:0.588798\n",
      "[46]\tValidation-auc:0.588823\n",
      "[47]\tValidation-auc:0.589216\n",
      "[48]\tValidation-auc:0.58887\n",
      "[49]\tValidation-auc:0.587937\n",
      "[50]\tValidation-auc:0.588585\n",
      "[51]\tValidation-auc:0.588728\n",
      "[52]\tValidation-auc:0.589134\n",
      "[53]\tValidation-auc:0.588247\n",
      "[54]\tValidation-auc:0.588029\n",
      "[55]\tValidation-auc:0.588337\n",
      "[56]\tValidation-auc:0.588026\n",
      "[57]\tValidation-auc:0.588171\n",
      "[58]\tValidation-auc:0.588065\n",
      "[59]\tValidation-auc:0.588466\n",
      "[60]\tValidation-auc:0.588034\n",
      "[61]\tValidation-auc:0.587807\n",
      "[62]\tValidation-auc:0.587748\n",
      "[63]\tValidation-auc:0.587616\n",
      "[64]\tValidation-auc:0.587598\n",
      "[65]\tValidation-auc:0.587507\n",
      "[66]\tValidation-auc:0.58737\n",
      "[67]\tValidation-auc:0.587186\n",
      "Stopping. Best iteration:\n",
      "[47]\tValidation-auc:0.589216\n",
      "\n"
     ]
    }
   ],
   "source": [
    "best_model = xgb.train(\n",
    "    param,\n",
    "    dtrain,\n",
    "    num_boost_round=num_boost_round,\n",
    "    evals=[(dvalidation, \"Validation\")],\n",
    "    early_stopping_rounds=20)"
   ]
  },
  {
   "cell_type": "code",
   "execution_count": 19,
   "metadata": {
    "scrolled": false
   },
   "outputs": [
    {
     "data": {
      "text/plain": [
       "Text(0.5, 0, 'Score')"
      ]
     },
     "execution_count": 19,
     "metadata": {},
     "output_type": "execute_result"
    },
    {
     "data": {
      "image/png": "[encoded data removed]",
      "text/plain": [
       "<Figure size 576x2160 with 1 Axes>"
      ]
     },
     "metadata": {
      "needs_background": "light"
     },
     "output_type": "display_data"
    }
   ],
   "source": [
    "feature_important = best_model.get_score(importance_type='weight')\n",
    "keys = list(feature_important.keys())\n",
    "values = list(feature_important.values())\n",
    "\n",
    "feature_importance_df = pd.DataFrame(data=values, index=keys, columns=[\"score\"]).sort_values(by = \"score\", ascending=True)\n",
    "fig, ax = plt.subplots(figsize=(8,30))\n",
    "feature_importance_df.plot(kind='barh', ax=ax)\n",
    "ax.set_title(\"Top 100 Important Features\", fontsize=24)\n",
    "ax.set_ylabel(\"Important Features\", fontsize=18)\n",
    "ax.set_xlabel(\"Score\", fontsize=18)"
   ]
  },
  {
   "cell_type": "code",
   "execution_count": 22,
   "metadata": {},
   "outputs": [],
   "source": [
    "fig.savefig(\"../reports/figures/best_model_001.png\")"
   ]
  },
  {
   "cell_type": "markdown",
   "metadata": {},
   "source": [
    "# Model tuning and feature selection"
   ]
  },
  {
   "cell_type": "code",
   "execution_count": 40,
   "metadata": {},
   "outputs": [
    {
     "name": "stdout",
     "output_type": "stream",
     "text": [
      "124\n"
     ]
    }
   ],
   "source": [
    "imp_features = feature_importance_df.sort_values(by='score', ascending=False).index.tolist()\n",
    "print(len(imp_features))\n",
    "\n",
    "# 25 features\n",
    "top_25_features = imp_features[:25]\n",
    "\n",
    "# 50 features\n",
    "top_50_features = imp_features[:50]\n",
    "\n",
    "# 75 features\n",
    "top_75_features = imp_features[:75]\n",
    "\n",
    "# 100 features\n",
    "top_100_features = imp_features[:100]\n"
   ]
  },
  {
   "cell_type": "markdown",
   "metadata": {},
   "source": [
    "## dTrain and dValidation Matrices with top features"
   ]
  },
  {
   "cell_type": "code",
   "execution_count": 41,
   "metadata": {},
   "outputs": [],
   "source": [
    "dtrain_25 = xgb.DMatrix(X_train[top_25_features], label=y_train)\n",
    "dtrain_50 = xgb.DMatrix(X_train[top_50_features], label=y_train)\n",
    "dtrain_75 = xgb.DMatrix(X_train[top_75_features], label=y_train)\n",
    "dtrain_100 = xgb.DMatrix(X_train[top_100_features], label=y_train)"
   ]
  },
  {
   "cell_type": "code",
   "execution_count": 45,
   "metadata": {},
   "outputs": [],
   "source": [
    "dvalidation_25 = xgb.DMatrix(X_val[top_25_features], label=y_val)\n",
    "dvalidation_50 = xgb.DMatrix(X_val[top_50_features], label=y_val)\n",
    "dvalidation_75 = xgb.DMatrix(X_val[top_75_features], label=y_val)\n",
    "dvalidation_100 = xgb.DMatrix(X_val[top_100_features], label=y_val)"
   ]
  },
  {
   "cell_type": "markdown",
   "metadata": {},
   "source": [
    "## Model with top 25 features"
   ]
  },
  {
   "cell_type": "code",
   "execution_count": 44,
   "metadata": {},
   "outputs": [
    {
     "name": "stdout",
     "output_type": "stream",
     "text": [
      "[0]\tValidation-auc:0.548398\n",
      "Will train until Validation-auc hasn't improved in 20 rounds.\n",
      "[1]\tValidation-auc:0.551653\n",
      "[2]\tValidation-auc:0.551904\n",
      "[3]\tValidation-auc:0.553974\n",
      "[4]\tValidation-auc:0.556176\n",
      "[5]\tValidation-auc:0.558215\n",
      "[6]\tValidation-auc:0.558901\n",
      "[7]\tValidation-auc:0.559239\n",
      "[8]\tValidation-auc:0.559218\n",
      "[9]\tValidation-auc:0.559561\n",
      "[10]\tValidation-auc:0.561212\n",
      "[11]\tValidation-auc:0.560576\n",
      "[12]\tValidation-auc:0.560817\n",
      "[13]\tValidation-auc:0.560216\n",
      "[14]\tValidation-auc:0.562501\n",
      "[15]\tValidation-auc:0.563336\n",
      "[16]\tValidation-auc:0.562576\n",
      "[17]\tValidation-auc:0.563367\n",
      "[18]\tValidation-auc:0.563556\n",
      "[19]\tValidation-auc:0.562912\n",
      "[20]\tValidation-auc:0.562087\n",
      "[21]\tValidation-auc:0.562996\n",
      "[22]\tValidation-auc:0.562931\n",
      "[23]\tValidation-auc:0.563728\n",
      "[24]\tValidation-auc:0.562726\n",
      "[25]\tValidation-auc:0.562685\n",
      "[26]\tValidation-auc:0.56254\n",
      "[27]\tValidation-auc:0.563585\n",
      "[28]\tValidation-auc:0.563288\n",
      "[29]\tValidation-auc:0.564171\n",
      "[30]\tValidation-auc:0.564043\n",
      "[31]\tValidation-auc:0.564028\n",
      "[32]\tValidation-auc:0.56419\n",
      "[33]\tValidation-auc:0.563724\n",
      "[34]\tValidation-auc:0.564298\n",
      "[35]\tValidation-auc:0.56442\n",
      "[36]\tValidation-auc:0.563481\n",
      "[37]\tValidation-auc:0.563459\n",
      "[38]\tValidation-auc:0.562956\n",
      "[39]\tValidation-auc:0.562336\n",
      "[40]\tValidation-auc:0.562023\n",
      "[41]\tValidation-auc:0.561412\n",
      "[42]\tValidation-auc:0.562015\n",
      "[43]\tValidation-auc:0.560889\n",
      "[44]\tValidation-auc:0.560536\n",
      "[45]\tValidation-auc:0.560518\n",
      "[46]\tValidation-auc:0.560389\n",
      "[47]\tValidation-auc:0.560645\n",
      "[48]\tValidation-auc:0.560332\n",
      "[49]\tValidation-auc:0.560884\n",
      "[50]\tValidation-auc:0.559956\n",
      "[51]\tValidation-auc:0.560238\n",
      "[52]\tValidation-auc:0.559235\n",
      "[53]\tValidation-auc:0.559053\n",
      "[54]\tValidation-auc:0.558124\n",
      "[55]\tValidation-auc:0.558976\n",
      "Stopping. Best iteration:\n",
      "[35]\tValidation-auc:0.56442\n",
      "\n"
     ]
    }
   ],
   "source": [
    "best_model_25 = xgb.train(\n",
    "    param,\n",
    "    dtrain_25,\n",
    "    num_boost_round=num_boost_round,\n",
    "    evals=[(dvalidation_25, \"Validation\")],\n",
    "    early_stopping_rounds=20)"
   ]
  },
  {
   "cell_type": "markdown",
   "metadata": {},
   "source": [
    "## Model with top 50 features"
   ]
  },
  {
   "cell_type": "code",
   "execution_count": 46,
   "metadata": {
    "scrolled": false
   },
   "outputs": [
    {
     "name": "stdout",
     "output_type": "stream",
     "text": [
      "[0]\tValidation-auc:0.553215\n",
      "Will train until Validation-auc hasn't improved in 20 rounds.\n",
      "[1]\tValidation-auc:0.556527\n",
      "[2]\tValidation-auc:0.558485\n",
      "[3]\tValidation-auc:0.560965\n",
      "[4]\tValidation-auc:0.561329\n",
      "[5]\tValidation-auc:0.561591\n",
      "[6]\tValidation-auc:0.561524\n",
      "[7]\tValidation-auc:0.562945\n",
      "[8]\tValidation-auc:0.562657\n",
      "[9]\tValidation-auc:0.562679\n",
      "[10]\tValidation-auc:0.561978\n",
      "[11]\tValidation-auc:0.563413\n",
      "[12]\tValidation-auc:0.565076\n",
      "[13]\tValidation-auc:0.565786\n",
      "[14]\tValidation-auc:0.567053\n",
      "[15]\tValidation-auc:0.567599\n",
      "[16]\tValidation-auc:0.569706\n",
      "[17]\tValidation-auc:0.570104\n",
      "[18]\tValidation-auc:0.569876\n",
      "[19]\tValidation-auc:0.569924\n",
      "[20]\tValidation-auc:0.570847\n",
      "[21]\tValidation-auc:0.56969\n",
      "[22]\tValidation-auc:0.568164\n",
      "[23]\tValidation-auc:0.570112\n",
      "[24]\tValidation-auc:0.56972\n",
      "[25]\tValidation-auc:0.568988\n",
      "[26]\tValidation-auc:0.568772\n",
      "[27]\tValidation-auc:0.56933\n",
      "[28]\tValidation-auc:0.569674\n",
      "[29]\tValidation-auc:0.569896\n",
      "[30]\tValidation-auc:0.571711\n",
      "[31]\tValidation-auc:0.571019\n",
      "[32]\tValidation-auc:0.571474\n",
      "[33]\tValidation-auc:0.571267\n",
      "[34]\tValidation-auc:0.572674\n",
      "[35]\tValidation-auc:0.572318\n",
      "[36]\tValidation-auc:0.572476\n",
      "[37]\tValidation-auc:0.572261\n",
      "[38]\tValidation-auc:0.571842\n",
      "[39]\tValidation-auc:0.572073\n",
      "[40]\tValidation-auc:0.571915\n",
      "[41]\tValidation-auc:0.571923\n",
      "[42]\tValidation-auc:0.57155\n",
      "[43]\tValidation-auc:0.571583\n",
      "[44]\tValidation-auc:0.571867\n",
      "[45]\tValidation-auc:0.571431\n",
      "[46]\tValidation-auc:0.571925\n",
      "[47]\tValidation-auc:0.571546\n",
      "[48]\tValidation-auc:0.572928\n",
      "[49]\tValidation-auc:0.573169\n",
      "[50]\tValidation-auc:0.573515\n",
      "[51]\tValidation-auc:0.573835\n",
      "[52]\tValidation-auc:0.572803\n",
      "[53]\tValidation-auc:0.572113\n",
      "[54]\tValidation-auc:0.571971\n",
      "[55]\tValidation-auc:0.57247\n",
      "[56]\tValidation-auc:0.571675\n",
      "[57]\tValidation-auc:0.57158\n",
      "[58]\tValidation-auc:0.571892\n",
      "[59]\tValidation-auc:0.571879\n",
      "[60]\tValidation-auc:0.571757\n",
      "[61]\tValidation-auc:0.572408\n",
      "[62]\tValidation-auc:0.572965\n",
      "[63]\tValidation-auc:0.572802\n",
      "[64]\tValidation-auc:0.57306\n",
      "[65]\tValidation-auc:0.573204\n",
      "[66]\tValidation-auc:0.573862\n",
      "[67]\tValidation-auc:0.573948\n",
      "[68]\tValidation-auc:0.573521\n",
      "[69]\tValidation-auc:0.574161\n",
      "[70]\tValidation-auc:0.574424\n",
      "[71]\tValidation-auc:0.574587\n",
      "[72]\tValidation-auc:0.574326\n",
      "[73]\tValidation-auc:0.574961\n",
      "[74]\tValidation-auc:0.575115\n",
      "[75]\tValidation-auc:0.575742\n",
      "[76]\tValidation-auc:0.57671\n",
      "[77]\tValidation-auc:0.576996\n",
      "[78]\tValidation-auc:0.576809\n",
      "[79]\tValidation-auc:0.576725\n",
      "[80]\tValidation-auc:0.576867\n",
      "[81]\tValidation-auc:0.57645\n",
      "[82]\tValidation-auc:0.577094\n",
      "[83]\tValidation-auc:0.57675\n",
      "[84]\tValidation-auc:0.576445\n",
      "[85]\tValidation-auc:0.576912\n",
      "[86]\tValidation-auc:0.576982\n",
      "[87]\tValidation-auc:0.577044\n",
      "[88]\tValidation-auc:0.577238\n",
      "[89]\tValidation-auc:0.577564\n",
      "[90]\tValidation-auc:0.578509\n",
      "[91]\tValidation-auc:0.578706\n",
      "[92]\tValidation-auc:0.578389\n",
      "[93]\tValidation-auc:0.57815\n",
      "[94]\tValidation-auc:0.578431\n",
      "[95]\tValidation-auc:0.578598\n",
      "[96]\tValidation-auc:0.57906\n",
      "[97]\tValidation-auc:0.579353\n",
      "[98]\tValidation-auc:0.579198\n",
      "[99]\tValidation-auc:0.579044\n",
      "[100]\tValidation-auc:0.578789\n",
      "[101]\tValidation-auc:0.578695\n",
      "[102]\tValidation-auc:0.578362\n",
      "[103]\tValidation-auc:0.57829\n",
      "[104]\tValidation-auc:0.578445\n",
      "[105]\tValidation-auc:0.578472\n",
      "[106]\tValidation-auc:0.578644\n",
      "[107]\tValidation-auc:0.578649\n",
      "[108]\tValidation-auc:0.578528\n",
      "[109]\tValidation-auc:0.578893\n",
      "[110]\tValidation-auc:0.578644\n",
      "[111]\tValidation-auc:0.579356\n",
      "[112]\tValidation-auc:0.579584\n",
      "[113]\tValidation-auc:0.579534\n",
      "[114]\tValidation-auc:0.579502\n",
      "[115]\tValidation-auc:0.579679\n",
      "[116]\tValidation-auc:0.579349\n",
      "[117]\tValidation-auc:0.5792\n",
      "[118]\tValidation-auc:0.579077\n",
      "[119]\tValidation-auc:0.579348\n",
      "[120]\tValidation-auc:0.579303\n",
      "[121]\tValidation-auc:0.579564\n",
      "[122]\tValidation-auc:0.579599\n",
      "[123]\tValidation-auc:0.579901\n",
      "[124]\tValidation-auc:0.579772\n",
      "[125]\tValidation-auc:0.580244\n",
      "[126]\tValidation-auc:0.580015\n",
      "[127]\tValidation-auc:0.579479\n",
      "[128]\tValidation-auc:0.579454\n",
      "[129]\tValidation-auc:0.579419\n",
      "[130]\tValidation-auc:0.578969\n",
      "[131]\tValidation-auc:0.57895\n",
      "[132]\tValidation-auc:0.578537\n",
      "[133]\tValidation-auc:0.578778\n",
      "[134]\tValidation-auc:0.578653\n",
      "[135]\tValidation-auc:0.57896\n",
      "[136]\tValidation-auc:0.578973\n",
      "[137]\tValidation-auc:0.57868\n",
      "[138]\tValidation-auc:0.578691\n",
      "[139]\tValidation-auc:0.579348\n",
      "[140]\tValidation-auc:0.579449\n",
      "[141]\tValidation-auc:0.579496\n",
      "[142]\tValidation-auc:0.579676\n",
      "[143]\tValidation-auc:0.57962\n",
      "[144]\tValidation-auc:0.579646\n",
      "[145]\tValidation-auc:0.579161\n",
      "Stopping. Best iteration:\n",
      "[125]\tValidation-auc:0.580244\n",
      "\n"
     ]
    }
   ],
   "source": [
    "best_model_50 = xgb.train(\n",
    "    param,\n",
    "    dtrain_50,\n",
    "    num_boost_round=num_boost_round,\n",
    "    evals=[(dvalidation_50, \"Validation\")],\n",
    "    early_stopping_rounds=20)"
   ]
  },
  {
   "cell_type": "markdown",
   "metadata": {},
   "source": [
    "## Model with top 75 features"
   ]
  },
  {
   "cell_type": "code",
   "execution_count": 47,
   "metadata": {},
   "outputs": [
    {
     "name": "stdout",
     "output_type": "stream",
     "text": [
      "[0]\tValidation-auc:0.553543\n",
      "Will train until Validation-auc hasn't improved in 20 rounds.\n",
      "[1]\tValidation-auc:0.557081\n",
      "[2]\tValidation-auc:0.5591\n",
      "[3]\tValidation-auc:0.562156\n",
      "[4]\tValidation-auc:0.562515\n",
      "[5]\tValidation-auc:0.562192\n",
      "[6]\tValidation-auc:0.56255\n",
      "[7]\tValidation-auc:0.564559\n",
      "[8]\tValidation-auc:0.564478\n",
      "[9]\tValidation-auc:0.56714\n",
      "[10]\tValidation-auc:0.565558\n",
      "[11]\tValidation-auc:0.565312\n",
      "[12]\tValidation-auc:0.567538\n",
      "[13]\tValidation-auc:0.569534\n",
      "[14]\tValidation-auc:0.56869\n",
      "[15]\tValidation-auc:0.569974\n",
      "[16]\tValidation-auc:0.570482\n",
      "[17]\tValidation-auc:0.57211\n",
      "[18]\tValidation-auc:0.571988\n",
      "[19]\tValidation-auc:0.573226\n",
      "[20]\tValidation-auc:0.575693\n",
      "[21]\tValidation-auc:0.579168\n",
      "[22]\tValidation-auc:0.5797\n",
      "[23]\tValidation-auc:0.58069\n",
      "[24]\tValidation-auc:0.581468\n",
      "[25]\tValidation-auc:0.582601\n",
      "[26]\tValidation-auc:0.581878\n",
      "[27]\tValidation-auc:0.581801\n",
      "[28]\tValidation-auc:0.582639\n",
      "[29]\tValidation-auc:0.582314\n",
      "[30]\tValidation-auc:0.583479\n",
      "[31]\tValidation-auc:0.584123\n",
      "[32]\tValidation-auc:0.584671\n",
      "[33]\tValidation-auc:0.584504\n",
      "[34]\tValidation-auc:0.584702\n",
      "[35]\tValidation-auc:0.584893\n",
      "[36]\tValidation-auc:0.58458\n",
      "[37]\tValidation-auc:0.585104\n",
      "[38]\tValidation-auc:0.586016\n",
      "[39]\tValidation-auc:0.586901\n",
      "[40]\tValidation-auc:0.587253\n",
      "[41]\tValidation-auc:0.585837\n",
      "[42]\tValidation-auc:0.586177\n",
      "[43]\tValidation-auc:0.586544\n",
      "[44]\tValidation-auc:0.586666\n",
      "[45]\tValidation-auc:0.586963\n",
      "[46]\tValidation-auc:0.587126\n",
      "[47]\tValidation-auc:0.586934\n",
      "[48]\tValidation-auc:0.588002\n",
      "[49]\tValidation-auc:0.588134\n",
      "[50]\tValidation-auc:0.588079\n",
      "[51]\tValidation-auc:0.588215\n",
      "[52]\tValidation-auc:0.588156\n",
      "[53]\tValidation-auc:0.588122\n",
      "[54]\tValidation-auc:0.588702\n",
      "[55]\tValidation-auc:0.588682\n",
      "[56]\tValidation-auc:0.587753\n",
      "[57]\tValidation-auc:0.58791\n",
      "[58]\tValidation-auc:0.588623\n",
      "[59]\tValidation-auc:0.588657\n",
      "[60]\tValidation-auc:0.589054\n",
      "[61]\tValidation-auc:0.588811\n",
      "[62]\tValidation-auc:0.588794\n",
      "[63]\tValidation-auc:0.589184\n",
      "[64]\tValidation-auc:0.589645\n",
      "[65]\tValidation-auc:0.590083\n",
      "[66]\tValidation-auc:0.589891\n",
      "[67]\tValidation-auc:0.588841\n",
      "[68]\tValidation-auc:0.588999\n",
      "[69]\tValidation-auc:0.588996\n",
      "[70]\tValidation-auc:0.588749\n",
      "[71]\tValidation-auc:0.588608\n",
      "[72]\tValidation-auc:0.588404\n",
      "[73]\tValidation-auc:0.588183\n",
      "[74]\tValidation-auc:0.588331\n",
      "[75]\tValidation-auc:0.588731\n",
      "[76]\tValidation-auc:0.588776\n",
      "[77]\tValidation-auc:0.5888\n",
      "[78]\tValidation-auc:0.588501\n",
      "[79]\tValidation-auc:0.588402\n",
      "[80]\tValidation-auc:0.588503\n",
      "[81]\tValidation-auc:0.588376\n",
      "[82]\tValidation-auc:0.58842\n",
      "[83]\tValidation-auc:0.588265\n",
      "[84]\tValidation-auc:0.588388\n",
      "[85]\tValidation-auc:0.58866\n",
      "Stopping. Best iteration:\n",
      "[65]\tValidation-auc:0.590083\n",
      "\n"
     ]
    }
   ],
   "source": [
    "best_model_75 = xgb.train(\n",
    "    param,\n",
    "    dtrain_75,\n",
    "    num_boost_round=num_boost_round,\n",
    "    evals=[(dvalidation_75, \"Validation\")],\n",
    "    early_stopping_rounds=20)"
   ]
  },
  {
   "cell_type": "markdown",
   "metadata": {},
   "source": [
    "## Model with top 100 features"
   ]
  },
  {
   "cell_type": "code",
   "execution_count": 48,
   "metadata": {},
   "outputs": [
    {
     "name": "stdout",
     "output_type": "stream",
     "text": [
      "[0]\tValidation-auc:0.553543\n",
      "Will train until Validation-auc hasn't improved in 20 rounds.\n",
      "[1]\tValidation-auc:0.557081\n",
      "[2]\tValidation-auc:0.559659\n",
      "[3]\tValidation-auc:0.562625\n",
      "[4]\tValidation-auc:0.562813\n",
      "[5]\tValidation-auc:0.562514\n",
      "[6]\tValidation-auc:0.562839\n",
      "[7]\tValidation-auc:0.564833\n",
      "[8]\tValidation-auc:0.5648\n",
      "[9]\tValidation-auc:0.567803\n",
      "[10]\tValidation-auc:0.56623\n",
      "[11]\tValidation-auc:0.566518\n",
      "[12]\tValidation-auc:0.567766\n",
      "[13]\tValidation-auc:0.569518\n",
      "[14]\tValidation-auc:0.570784\n",
      "[15]\tValidation-auc:0.571374\n",
      "[16]\tValidation-auc:0.572741\n",
      "[17]\tValidation-auc:0.574045\n",
      "[18]\tValidation-auc:0.573415\n",
      "[19]\tValidation-auc:0.57438\n",
      "[20]\tValidation-auc:0.574971\n",
      "[21]\tValidation-auc:0.574608\n",
      "[22]\tValidation-auc:0.575552\n",
      "[23]\tValidation-auc:0.576395\n",
      "[24]\tValidation-auc:0.576879\n",
      "[25]\tValidation-auc:0.577512\n",
      "[26]\tValidation-auc:0.577857\n",
      "[27]\tValidation-auc:0.578309\n",
      "[28]\tValidation-auc:0.578531\n",
      "[29]\tValidation-auc:0.580496\n",
      "[30]\tValidation-auc:0.582079\n",
      "[31]\tValidation-auc:0.583124\n",
      "[32]\tValidation-auc:0.58313\n",
      "[33]\tValidation-auc:0.583136\n",
      "[34]\tValidation-auc:0.583497\n",
      "[35]\tValidation-auc:0.583161\n",
      "[36]\tValidation-auc:0.583575\n",
      "[37]\tValidation-auc:0.583204\n",
      "[38]\tValidation-auc:0.583863\n",
      "[39]\tValidation-auc:0.584832\n",
      "[40]\tValidation-auc:0.586426\n",
      "[41]\tValidation-auc:0.586554\n",
      "[42]\tValidation-auc:0.586562\n",
      "[43]\tValidation-auc:0.586516\n",
      "[44]\tValidation-auc:0.586245\n",
      "[45]\tValidation-auc:0.587294\n",
      "[46]\tValidation-auc:0.587539\n",
      "[47]\tValidation-auc:0.588007\n",
      "[48]\tValidation-auc:0.587778\n",
      "[49]\tValidation-auc:0.587538\n",
      "[50]\tValidation-auc:0.586447\n",
      "[51]\tValidation-auc:0.58616\n",
      "[52]\tValidation-auc:0.585445\n",
      "[53]\tValidation-auc:0.585363\n",
      "[54]\tValidation-auc:0.584557\n",
      "[55]\tValidation-auc:0.584442\n",
      "[56]\tValidation-auc:0.584974\n",
      "[57]\tValidation-auc:0.584696\n",
      "[58]\tValidation-auc:0.585335\n",
      "[59]\tValidation-auc:0.585818\n",
      "[60]\tValidation-auc:0.585943\n",
      "[61]\tValidation-auc:0.586976\n",
      "[62]\tValidation-auc:0.585871\n",
      "[63]\tValidation-auc:0.585555\n",
      "[64]\tValidation-auc:0.584885\n",
      "[65]\tValidation-auc:0.585796\n",
      "[66]\tValidation-auc:0.58606\n",
      "[67]\tValidation-auc:0.586038\n",
      "Stopping. Best iteration:\n",
      "[47]\tValidation-auc:0.588007\n",
      "\n"
     ]
    }
   ],
   "source": [
    "best_model_100 = xgb.train(\n",
    "    param,\n",
    "    dtrain_100,\n",
    "    num_boost_round=num_boost_round,\n",
    "    evals=[(dvalidation_100, \"Validation\")],\n",
    "    early_stopping_rounds=20)"
   ]
  },
  {
   "cell_type": "code",
   "execution_count": 51,
   "metadata": {},
   "outputs": [],
   "source": [
    "feature_importance_df.to_csv(\"../reports/feature_importances.csv\", index=False)"
   ]
  },
  {
   "cell_type": "markdown",
   "metadata": {},
   "source": [
    "# Save Models"
   ]
  },
  {
   "cell_type": "code",
   "execution_count": 49,
   "metadata": {},
   "outputs": [],
   "source": [
    "best_model.save_model(\"../models/best_model_001.model\")\n",
    "best_model_25.save_model(\"../models/best_model_25.model\")\n",
    "best_model_50.save_model(\"../models/best_model_50.model\")\n",
    "best_model_75.save_model(\"../models/best_model_75.model\")\n",
    "best_model_100.save_model(\"../models/best_model_100.model\")"
   ]
  },
  {
   "cell_type": "code",
   "execution_count": 50,
   "metadata": {},
   "outputs": [],
   "source": [
    "loaded_model = xgb.Booster()\n",
    "loaded_model.load_model(\"../models/best_model_001.model\")\n",
    "loaded_model.load_model(\"../models/best_model_25.model\")\n",
    "loaded_model.load_model(\"../models/best_model_50.model\")\n",
    "loaded_model.load_model(\"../models/best_model_75.model\")\n",
    "loaded_model.load_model(\"../models/best_model_100.model\")\n"
   ]
  },
  {
   "cell_type": "code",
   "execution_count": null,
   "metadata": {},
   "outputs": [],
   "source": []
  },
  {
   "cell_type": "code",
   "execution_count": null,
   "metadata": {},
   "outputs": [],
   "source": []
  },
  {
   "cell_type": "code",
   "execution_count": null,
   "metadata": {},
   "outputs": [],
   "source": []
  },
  {
   "cell_type": "code",
   "execution_count": null,
   "metadata": {},
   "outputs": [],
   "source": []
  },
  {
   "cell_type": "code",
   "execution_count": null,
   "metadata": {},
   "outputs": [],
   "source": []
  }
 ],
 "metadata": {
  "kernelspec": {
   "display_name": "Python 3",
   "language": "python",
   "name": "python3"
  },
  "language_info": {
   "codemirror_mode": {
    "name": "ipython",
    "version": 3
   },
   "file_extension": ".py",
   "mimetype": "text/x-python",
   "name": "python",
   "nbconvert_exporter": "python",
   "pygments_lexer": "ipython3",
   "version": "3.7.4"
  },
  "toc": {
   "base_numbering": 1,
   "nav_menu": {},
   "number_sections": true,
   "sideBar": true,
   "skip_h1_title": false,
   "title_cell": "Table of Contents",
   "title_sidebar": "Contents",
   "toc_cell": false,
   "toc_position": {},
   "toc_section_display": true,
   "toc_window_display": false
  }
 },
 "nbformat": 4,
 "nbformat_minor": 4
}
