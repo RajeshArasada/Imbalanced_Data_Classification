{
 "cells": [
  {
   "cell_type": "markdown",
   "metadata": {},
   "source": [
    "# Imports"
   ]
  },
  {
   "cell_type": "code",
   "execution_count": 17,
   "metadata": {},
   "outputs": [],
   "source": [
    "import warnings\n",
    "warnings.filterwarnings(\"ignore\")\n",
    "\n",
    "import pandas as pd\n",
    "import numpy as np\n",
    "from datetime import datetime\n",
    "from tqdm import tqdm\n",
    "\n",
    "import sklearn\n",
    "from sklearn import metrics\n",
    "from sklearn.metrics import roc_auc_score, confusion_matrix\n",
    "from sklearn.model_selection import train_test_split\n",
    "from sklearn.model_selection import GridSearchCV, RandomizedSearchCV, StratifiedKFold\n",
    "\n",
    "import xgboost as xgb\n",
    "from xgboost import XGBClassifier\n",
    "\n",
    "import matplotlib.pyplot as plt\n",
    "%matplotlib inline\n",
    "import seaborn as sns"
   ]
  },
  {
   "cell_type": "markdown",
   "metadata": {},
   "source": [
    "# Data"
   ]
  },
  {
   "cell_type": "code",
   "execution_count": 2,
   "metadata": {},
   "outputs": [],
   "source": [
    "train = pd.read_csv(\"../data/processed/SMOTE_df.csv\")\n",
    "validation = pd.read_csv(\"../data/processed/validation.csv\")\n",
    "test = pd.read_csv(\"../data/processed/test.csv\")"
   ]
  },
  {
   "cell_type": "code",
   "execution_count": 3,
   "metadata": {},
   "outputs": [],
   "source": [
    "y_train = train['readmitted_rescaled']\n",
    "X_train = train.drop('readmitted_rescaled', axis=1)\n",
    "\n",
    "y_val = validation['readmitted_rescaled']\n",
    "X_val = validation.drop('readmitted_rescaled', axis=1)\n",
    "\n",
    "y_test = test['readmitted_rescaled']\n",
    "X_test = test.drop('readmitted_rescaled', axis=1)"
   ]
  },
  {
   "cell_type": "code",
   "execution_count": 4,
   "metadata": {},
   "outputs": [],
   "source": [
    "def rename_column_names(colname):\n",
    "    colname = \"_\".join(colname.split('-'))\n",
    "    colname = \"_\".join(colname.split(','))\n",
    "    colname = \"_\".join(colname.split('<'))\n",
    "    colname = \"_\".join(colname.split('/'))\n",
    "    colname = \"_\".join(colname.split('.'))\n",
    "    colname = \"_\".join(colname.split('['))\n",
    "    colname = \"_\".join(colname.split(']'))\n",
    "    colname = \"\".join(colname.split(')'))\n",
    "    colname = \"_\".join(colname.split('('))\n",
    "    return colname\n",
    "  "
   ]
  },
  {
   "cell_type": "code",
   "execution_count": 5,
   "metadata": {},
   "outputs": [],
   "source": [
    "new_train_colnames = list(map(lambda x: rename_column_names(x), X_train.columns.tolist()))\n",
    "new_val_colnames = list(map(lambda x: rename_column_names(x), X_val.columns.tolist()))\n",
    "new_test_colnames = list(map(lambda x: rename_column_names(x), X_test.columns.tolist()))"
   ]
  },
  {
   "cell_type": "code",
   "execution_count": 6,
   "metadata": {},
   "outputs": [],
   "source": [
    "X_train.columns = new_train_colnames\n",
    "X_val.columns = new_val_colnames\n",
    "X_test.columns = new_test_colnames"
   ]
  },
  {
   "cell_type": "markdown",
   "metadata": {},
   "source": [
    "# Base Model"
   ]
  },
  {
   "cell_type": "code",
   "execution_count": 7,
   "metadata": {},
   "outputs": [],
   "source": [
    "dtrain = xgb.DMatrix(X_train, label=y_train)\n",
    "dvalidation = xgb.DMatrix(X_val, label=y_val)"
   ]
  },
  {
   "cell_type": "code",
   "execution_count": 26,
   "metadata": {},
   "outputs": [],
   "source": [
    "dtest = xgb.DMatrix(X_test, label=y_test)"
   ]
  },
  {
   "cell_type": "code",
   "execution_count": 8,
   "metadata": {},
   "outputs": [],
   "source": [
    "param = {'max_depth': 2, 'eta': 1, 'objective': 'binary:logistic', 'eval_metric': 'auc'}\n",
    "#param['eval_metric'] = \"auc\""
   ]
  },
  {
   "cell_type": "code",
   "execution_count": 9,
   "metadata": {},
   "outputs": [],
   "source": [
    "# specify validations set to watch performance\n",
    "watchlist = [(dvalidation, 'eval'), (dtrain, 'train')]"
   ]
  },
  {
   "cell_type": "code",
   "execution_count": 10,
   "metadata": {
    "scrolled": false
   },
   "outputs": [
    {
     "name": "stdout",
     "output_type": "stream",
     "text": [
      "[0]\teval-auc:0.574939\ttrain-auc:0.623693\n",
      "[1]\teval-auc:0.59001\ttrain-auc:0.670517\n",
      "[2]\teval-auc:0.579831\ttrain-auc:0.708186\n",
      "[3]\teval-auc:0.553883\ttrain-auc:0.736572\n",
      "[4]\teval-auc:0.543521\ttrain-auc:0.767972\n",
      "[5]\teval-auc:0.562488\ttrain-auc:0.77669\n",
      "[6]\teval-auc:0.571813\ttrain-auc:0.786016\n",
      "[7]\teval-auc:0.561704\ttrain-auc:0.813818\n",
      "[8]\teval-auc:0.567376\ttrain-auc:0.820668\n",
      "[9]\teval-auc:0.574203\ttrain-auc:0.842267\n",
      "[10]\teval-auc:0.568558\ttrain-auc:0.868621\n",
      "[11]\teval-auc:0.570229\ttrain-auc:0.887012\n",
      "[12]\teval-auc:0.568799\ttrain-auc:0.898338\n",
      "[13]\teval-auc:0.563253\ttrain-auc:0.901407\n",
      "[14]\teval-auc:0.561046\ttrain-auc:0.904827\n",
      "[15]\teval-auc:0.562571\ttrain-auc:0.907242\n",
      "[16]\teval-auc:0.563237\ttrain-auc:0.911668\n",
      "[17]\teval-auc:0.561447\ttrain-auc:0.914021\n",
      "[18]\teval-auc:0.563128\ttrain-auc:0.916966\n",
      "[19]\teval-auc:0.562175\ttrain-auc:0.919093\n",
      "[20]\teval-auc:0.563764\ttrain-auc:0.921542\n",
      "[21]\teval-auc:0.563141\ttrain-auc:0.923222\n",
      "[22]\teval-auc:0.564054\ttrain-auc:0.924796\n",
      "[23]\teval-auc:0.569048\ttrain-auc:0.926022\n",
      "[24]\teval-auc:0.566698\ttrain-auc:0.932968\n"
     ]
    }
   ],
   "source": [
    "num_round = 25\n",
    "bst = xgb.train(param, dtrain, num_round, watchlist)"
   ]
  },
  {
   "cell_type": "markdown",
   "metadata": {},
   "source": [
    "## Base model performance"
   ]
  },
  {
   "cell_type": "code",
   "execution_count": 105,
   "metadata": {},
   "outputs": [],
   "source": [
    "# print(\"Base Model AUC: {:.2f}\".format(\n",
    "#                  bst.best_score,\n",
    "#                  bst.best_iteration+1))\n"
   ]
  },
  {
   "cell_type": "code",
   "execution_count": null,
   "metadata": {},
   "outputs": [],
   "source": [
    "# Base model predictions"
   ]
  },
  {
   "cell_type": "code",
   "execution_count": 75,
   "metadata": {},
   "outputs": [
    {
     "name": "stdout",
     "output_type": "stream",
     "text": [
      "[0.14651231 0.29021257 0.53440356 ... 0.1798375  0.05700677 0.14533229]\n",
      "[0. 1. 0. ... 0. 0. 0.]\n"
     ]
    }
   ],
   "source": [
    "preds = bst.predict(dvalidation)\n",
    "print(preds)\n",
    "labels = dvalidation.get_label()\n",
    "print(labels)"
   ]
  },
  {
   "cell_type": "code",
   "execution_count": 82,
   "metadata": {},
   "outputs": [
    {
     "name": "stdout",
     "output_type": "stream",
     "text": [
      "error=0.13\n"
     ]
    }
   ],
   "source": [
    "print('error={:.2f}' .format(sum(1 for i in range(len(preds)) if int(preds[i] > 0.5) != labels[i]) /\n",
    "       float(len(preds))))"
   ]
  },
  {
   "cell_type": "code",
   "execution_count": 87,
   "metadata": {},
   "outputs": [],
   "source": [
    "bst.save_model('../models/0001.model')\n",
    "# dump model\n",
    "bst.dump_model('../models/0001_dump.raw.txt')\n",
    "# dump model with feature map\n",
    "bst.dump_model('../models/0001_dump.nice.txt')"
   ]
  },
  {
   "cell_type": "markdown",
   "metadata": {},
   "source": [
    "# Hyperparameter Tuning"
   ]
  },
  {
   "cell_type": "markdown",
   "metadata": {},
   "source": [
    "The first parameter we will look at is not part of the default params dictionary, but will be passed as a standalone argument to the training method. This parameter is called **\"num_boost_round\"** and corresponds to the number of boosting rounds or trees to build. Its optimal value highly depends on the other parameters, and thus it should be re-tuned each time you update a parameter.\n",
    "\n",
    "Tuning it together with all parameters can be done in a grid-search, but it requires a lot of computational effort.\n",
    "\n",
    "Fortunately XGBoost provides a nice way to find the best number of rounds whilst training. Since trees are built sequentially, instead of fixing the number of rounds at the beginning, we can test our model at each step and see if adding a new tree/round improves performance.\n",
    "\n",
    "To do so, we define a validation dataset and a metric that is used to assess performance at each round. If performance haven’t improved for N rounds (N is defined by the variable **\"early_stopping_round\"**), we stop the training and keep the best number of boosting rounds. \n",
    "\n",
    "We will pass a **\"num_boost_round\"** which corresponds to the maximum number of boosting rounds that we allow. We set it to a large value hoping to find the optimal number of rounds before reaching it, if we haven't improved performance on our test dataset in early_stopping_round rounds"
   ]
  },
  {
   "cell_type": "markdown",
   "metadata": {},
   "source": [
    "## Number Boost Round and Early Stopping Rounds"
   ]
  },
  {
   "cell_type": "code",
   "execution_count": 12,
   "metadata": {},
   "outputs": [],
   "source": [
    "# Define a default parameters to begin with as a \"param\" dictionary\n",
    "param = {'max_depth': 6, \n",
    "         'min_child_weight': 1,\n",
    "         'eta': 0.3, \n",
    "         'subsample': 1,\n",
    "         'colsample_bytree': 1,\n",
    "         'objective': 'binary:logistic'}"
   ]
  },
  {
   "cell_type": "code",
   "execution_count": 13,
   "metadata": {},
   "outputs": [],
   "source": [
    "# Add the evaluation metric to the param dictionary\n",
    "param['eval_metric'] = \"auc\"\n",
    "\n",
    "# set \"num_boost_rounds\" to a large number\n",
    "num_boost_round = 999"
   ]
  },
  {
   "cell_type": "code",
   "execution_count": 98,
   "metadata": {},
   "outputs": [
    {
     "name": "stdout",
     "output_type": "stream",
     "text": [
      "[0]\tValidation-auc:0.54458\n",
      "Will train until Validation-auc hasn't improved in 10 rounds.\n",
      "[1]\tValidation-auc:0.552465\n",
      "[2]\tValidation-auc:0.554492\n",
      "[3]\tValidation-auc:0.558288\n",
      "[4]\tValidation-auc:0.567015\n",
      "[5]\tValidation-auc:0.573127\n",
      "[6]\tValidation-auc:0.57403\n",
      "[7]\tValidation-auc:0.573055\n",
      "[8]\tValidation-auc:0.573107\n",
      "[9]\tValidation-auc:0.575311\n",
      "[10]\tValidation-auc:0.576368\n",
      "[11]\tValidation-auc:0.578053\n",
      "[12]\tValidation-auc:0.575459\n",
      "[13]\tValidation-auc:0.579737\n",
      "[14]\tValidation-auc:0.57889\n",
      "[15]\tValidation-auc:0.579709\n",
      "[16]\tValidation-auc:0.580606\n",
      "[17]\tValidation-auc:0.582377\n",
      "[18]\tValidation-auc:0.584218\n",
      "[19]\tValidation-auc:0.585463\n",
      "[20]\tValidation-auc:0.584919\n",
      "[21]\tValidation-auc:0.586799\n",
      "[22]\tValidation-auc:0.587925\n",
      "[23]\tValidation-auc:0.589869\n",
      "[24]\tValidation-auc:0.589816\n",
      "[25]\tValidation-auc:0.591163\n",
      "[26]\tValidation-auc:0.588882\n",
      "[27]\tValidation-auc:0.586725\n",
      "[28]\tValidation-auc:0.584564\n",
      "[29]\tValidation-auc:0.585482\n",
      "[30]\tValidation-auc:0.584084\n",
      "[31]\tValidation-auc:0.583593\n",
      "[32]\tValidation-auc:0.58268\n",
      "[33]\tValidation-auc:0.581614\n",
      "[34]\tValidation-auc:0.581392\n",
      "[35]\tValidation-auc:0.581978\n",
      "Stopping. Best iteration:\n",
      "[25]\tValidation-auc:0.591163\n",
      "\n"
     ]
    }
   ],
   "source": [
    "model_001 = xgb.train(param, dtrain, num_boost_round=num_boost_round, evals=[(dvalidation, \"Validation\")], early_stopping_rounds=10)"
   ]
  },
  {
   "cell_type": "code",
   "execution_count": 99,
   "metadata": {},
   "outputs": [
    {
     "name": "stdout",
     "output_type": "stream",
     "text": [
      "Best AUC: 0.59 with 26 rounds\n"
     ]
    }
   ],
   "source": [
    "print(\"Best AUC: {:.2f} with {} rounds\".format(\n",
    "                 model_001.best_score,\n",
    "                 model_001.best_iteration+1))"
   ]
  },
  {
   "cell_type": "markdown",
   "metadata": {},
   "source": [
    "The training stopped before reaching the maximum number of boosting rounds (999), that’s because after the 26th tree, adding more rounds did not lead to improvements of AUC on the validation dataset.\n",
    "\n",
    "The AUC is 0.59 with default parameters and an optimal number of boosting rounds, on the validation dataset."
   ]
  },
  {
   "cell_type": "markdown",
   "metadata": {},
   "source": [
    "# Using XGBoost’s CV"
   ]
  },
  {
   "cell_type": "markdown",
   "metadata": {},
   "source": [
    "In order to tune the other hyperparameters, we will use the cv function from XGBoost. It allows us to run cross-validation on our training dataset and returns a mean AUC score.\n",
    "\n",
    "We need to pass it:\n",
    "* **params**: our dictionary of parameters.\n",
    "\n",
    "* **our dtrain matrix**.\n",
    "\n",
    "* **num_boost_round**: number of boosting rounds. We will use a large number again and count on **early_stopping_rounds** to find the optimal number of rounds before reaching the maximum.\n",
    "\n",
    "* **seed**: random seed. It's important to set a seed here, to ensure we are using the same folds for each step so we can properly compare the scores with different parameters.\n",
    "\n",
    "* **nfold**: the number of folds to use for cross-validation\n",
    "\n",
    "* **metrics**: the metrics to use to evaluate our model, here we use **AUC**.\n",
    "\n",
    "There is no need to pass a test dataset here. It’s because the cross-validation function is splitting the train dataset into nfolds and iteratively keeps one of the folds for test purposes. "
   ]
  },
  {
   "cell_type": "markdown",
   "metadata": {},
   "source": [
    "## Cross validation score with default parameters"
   ]
  },
  {
   "cell_type": "code",
   "execution_count": 107,
   "metadata": {},
   "outputs": [
    {
     "data": {
      "text/html": [
       "<div>\n",
       "<style scoped>\n",
       "    .dataframe tbody tr th:only-of-type {\n",
       "        vertical-align: middle;\n",
       "    }\n",
       "\n",
       "    .dataframe tbody tr th {\n",
       "        vertical-align: top;\n",
       "    }\n",
       "\n",
       "    .dataframe thead th {\n",
       "        text-align: right;\n",
       "    }\n",
       "</style>\n",
       "<table border=\"1\" class=\"dataframe\">\n",
       "  <thead>\n",
       "    <tr style=\"text-align: right;\">\n",
       "      <th></th>\n",
       "      <th>train-auc-mean</th>\n",
       "      <th>train-auc-std</th>\n",
       "      <th>test-auc-mean</th>\n",
       "      <th>test-auc-std</th>\n",
       "    </tr>\n",
       "  </thead>\n",
       "  <tbody>\n",
       "    <tr>\n",
       "      <th>0</th>\n",
       "      <td>0.623693</td>\n",
       "      <td>0.000864</td>\n",
       "      <td>0.623666</td>\n",
       "      <td>0.003424</td>\n",
       "    </tr>\n",
       "    <tr>\n",
       "      <th>1</th>\n",
       "      <td>0.670518</td>\n",
       "      <td>0.000914</td>\n",
       "      <td>0.670510</td>\n",
       "      <td>0.003660</td>\n",
       "    </tr>\n",
       "    <tr>\n",
       "      <th>2</th>\n",
       "      <td>0.708491</td>\n",
       "      <td>0.000616</td>\n",
       "      <td>0.708416</td>\n",
       "      <td>0.004882</td>\n",
       "    </tr>\n",
       "    <tr>\n",
       "      <th>3</th>\n",
       "      <td>0.737613</td>\n",
       "      <td>0.000677</td>\n",
       "      <td>0.737446</td>\n",
       "      <td>0.007267</td>\n",
       "    </tr>\n",
       "    <tr>\n",
       "      <th>4</th>\n",
       "      <td>0.768219</td>\n",
       "      <td>0.000864</td>\n",
       "      <td>0.768418</td>\n",
       "      <td>0.005216</td>\n",
       "    </tr>\n",
       "    <tr>\n",
       "      <th>...</th>\n",
       "      <td>...</td>\n",
       "      <td>...</td>\n",
       "      <td>...</td>\n",
       "      <td>...</td>\n",
       "    </tr>\n",
       "    <tr>\n",
       "      <th>125</th>\n",
       "      <td>0.959062</td>\n",
       "      <td>0.002151</td>\n",
       "      <td>0.955588</td>\n",
       "      <td>0.001537</td>\n",
       "    </tr>\n",
       "    <tr>\n",
       "      <th>126</th>\n",
       "      <td>0.959073</td>\n",
       "      <td>0.002123</td>\n",
       "      <td>0.955649</td>\n",
       "      <td>0.001500</td>\n",
       "    </tr>\n",
       "    <tr>\n",
       "      <th>127</th>\n",
       "      <td>0.959115</td>\n",
       "      <td>0.002123</td>\n",
       "      <td>0.955695</td>\n",
       "      <td>0.001516</td>\n",
       "    </tr>\n",
       "    <tr>\n",
       "      <th>128</th>\n",
       "      <td>0.959163</td>\n",
       "      <td>0.002164</td>\n",
       "      <td>0.955745</td>\n",
       "      <td>0.001510</td>\n",
       "    </tr>\n",
       "    <tr>\n",
       "      <th>129</th>\n",
       "      <td>0.959235</td>\n",
       "      <td>0.002167</td>\n",
       "      <td>0.955762</td>\n",
       "      <td>0.001534</td>\n",
       "    </tr>\n",
       "  </tbody>\n",
       "</table>\n",
       "<p>130 rows × 4 columns</p>\n",
       "</div>"
      ],
      "text/plain": [
       "     train-auc-mean  train-auc-std  test-auc-mean  test-auc-std\n",
       "0          0.623693       0.000864       0.623666      0.003424\n",
       "1          0.670518       0.000914       0.670510      0.003660\n",
       "2          0.708491       0.000616       0.708416      0.004882\n",
       "3          0.737613       0.000677       0.737446      0.007267\n",
       "4          0.768219       0.000864       0.768418      0.005216\n",
       "..              ...            ...            ...           ...\n",
       "125        0.959062       0.002151       0.955588      0.001537\n",
       "126        0.959073       0.002123       0.955649      0.001500\n",
       "127        0.959115       0.002123       0.955695      0.001516\n",
       "128        0.959163       0.002164       0.955745      0.001510\n",
       "129        0.959235       0.002167       0.955762      0.001534\n",
       "\n",
       "[130 rows x 4 columns]"
      ]
     },
     "execution_count": 107,
     "metadata": {},
     "output_type": "execute_result"
    }
   ],
   "source": [
    "cv_results = xgb.cv(param,\n",
    "                    dtrain,\n",
    "                    num_boost_round=num_boost_round,\n",
    "                    seed=42,\n",
    "                    nfold=5,\n",
    "                    metrics={\"auc\"},\n",
    "                    early_stopping_rounds=10)\n",
    "cv_results"
   ]
  },
  {
   "cell_type": "code",
   "execution_count": 111,
   "metadata": {},
   "outputs": [
    {
     "name": "stdout",
     "output_type": "stream",
     "text": [
      "Test-AUC-Mean 0.9557624\n"
     ]
    }
   ],
   "source": [
    "print(\"Test-AUC-Mean {}\".format(cv_results[\"test-auc-mean\"].max()))"
   ]
  },
  {
   "cell_type": "markdown",
   "metadata": {},
   "source": [
    "## max_depth and min_child_weight"
   ]
  },
  {
   "cell_type": "markdown",
   "metadata": {},
   "source": [
    "These parameters add constraints on the architecture of the trees and prevent overfitting. Tuning these parameters find a good trade-off between model bias and variance.\n",
    "\n",
    "**max_depth** - is the maximum number of nodes allowed from the root to the farthest leaf of a tree. Deeper trees can model more complex relationships by adding more nodes, but as we go deeper, splits become less relevant and are sometimes only due to noise, causing the model to overfit.\n",
    "\n",
    "**min_child_weight** -  is the minimum weight (or number of samples if all samples have a weight of 1) required in order to create a new node in the tree. A smaller min_child_weight allows the algorithm to create children that correspond to fewer samples, thus allowing for more complex trees, but again, more likely to overfit."
   ]
  },
  {
   "cell_type": "code",
   "execution_count": 120,
   "metadata": {},
   "outputs": [],
   "source": [
    "# Define a grid for these two parameters\n",
    "param_grid = [(max_depth, min_child_weight)\n",
    "              for max_depth in range(9, 12) for min_child_weight in range(5,8)]"
   ]
  },
  {
   "cell_type": "code",
   "execution_count": 121,
   "metadata": {},
   "outputs": [],
   "source": []
  },
  {
   "cell_type": "code",
   "execution_count": 123,
   "metadata": {},
   "outputs": [
    {
     "name": "stderr",
     "output_type": "stream",
     "text": [
      "\r",
      "  0%|          | 0/9 [00:00<?, ?it/s]"
     ]
    },
    {
     "name": "stdout",
     "output_type": "stream",
     "text": [
      "CV with max_depth = 9 and min_child_weight = 5\n"
     ]
    },
    {
     "name": "stderr",
     "output_type": "stream",
     "text": [
      "\r",
      " 11%|█         | 1/9 [03:54<31:15, 234.38s/it]"
     ]
    },
    {
     "name": "stdout",
     "output_type": "stream",
     "text": [
      "\tAUC 0.9599016666666667 for 29 rounds\n",
      "CV with max_depth = 9 and min_child_weight = 6\n"
     ]
    },
    {
     "name": "stderr",
     "output_type": "stream",
     "text": [
      "\r",
      " 22%|██▏       | 2/9 [08:05<27:54, 239.25s/it]"
     ]
    },
    {
     "name": "stdout",
     "output_type": "stream",
     "text": [
      "\tAUC 0.959372 for 35 rounds\n",
      "CV with max_depth = 9 and min_child_weight = 7\n"
     ]
    },
    {
     "name": "stderr",
     "output_type": "stream",
     "text": [
      "\r",
      " 33%|███▎      | 3/9 [12:14<24:14, 242.45s/it]"
     ]
    },
    {
     "name": "stdout",
     "output_type": "stream",
     "text": [
      "\tAUC 0.9602056666666666 for 32 rounds\n",
      "CV with max_depth = 10 and min_child_weight = 5\n"
     ]
    },
    {
     "name": "stderr",
     "output_type": "stream",
     "text": [
      "\r",
      " 44%|████▍     | 4/9 [16:31<20:32, 246.56s/it]"
     ]
    },
    {
     "name": "stdout",
     "output_type": "stream",
     "text": [
      "\tAUC 0.960337 for 28 rounds\n",
      "CV with max_depth = 10 and min_child_weight = 6\n"
     ]
    },
    {
     "name": "stderr",
     "output_type": "stream",
     "text": [
      "\r",
      " 56%|█████▌    | 5/9 [21:30<17:29, 262.50s/it]"
     ]
    },
    {
     "name": "stdout",
     "output_type": "stream",
     "text": [
      "\tAUC 0.9589059999999999 for 32 rounds\n",
      "CV with max_depth = 10 and min_child_weight = 7\n"
     ]
    },
    {
     "name": "stderr",
     "output_type": "stream",
     "text": [
      "\r",
      " 67%|██████▋   | 6/9 [25:18<12:36, 252.01s/it]"
     ]
    },
    {
     "name": "stdout",
     "output_type": "stream",
     "text": [
      "\tAUC 0.9600673333333334 for 25 rounds\n",
      "CV with max_depth = 11 and min_child_weight = 5\n"
     ]
    },
    {
     "name": "stderr",
     "output_type": "stream",
     "text": [
      "\r",
      " 78%|███████▊  | 7/9 [29:48<08:34, 257.45s/it]"
     ]
    },
    {
     "name": "stdout",
     "output_type": "stream",
     "text": [
      "\tAUC 0.9604739999999999 for 31 rounds\n",
      "CV with max_depth = 11 and min_child_weight = 6\n"
     ]
    },
    {
     "name": "stderr",
     "output_type": "stream",
     "text": [
      "\r",
      " 89%|████████▉ | 8/9 [32:54<03:55, 235.96s/it]"
     ]
    },
    {
     "name": "stdout",
     "output_type": "stream",
     "text": [
      "\tAUC 0.9604316666666666 for 18 rounds\n",
      "CV with max_depth = 11 and min_child_weight = 7\n"
     ]
    },
    {
     "name": "stderr",
     "output_type": "stream",
     "text": [
      "100%|██████████| 9/9 [36:29<00:00, 243.29s/it]"
     ]
    },
    {
     "name": "stdout",
     "output_type": "stream",
     "text": [
      "\tAUC 0.960932 for 23 rounds\n",
      "Best params: 11, 7, AUC: 0.960932\n"
     ]
    },
    {
     "name": "stderr",
     "output_type": "stream",
     "text": [
      "\n"
     ]
    }
   ],
   "source": [
    "# Define initial best params and AUC\n",
    "max_auc = float(\"-Inf\")\n",
    "best_params = None\n",
    "\n",
    "for max_depth, min_child_weight in tqdm(param_grid):\n",
    "    print(\"CV with max_depth = {} and min_child_weight = {}\".format(\n",
    "        max_depth, min_child_weight))\n",
    "    \n",
    "    # Update our parameters\n",
    "    param['max_depth'] = max_depth\n",
    "    param['min_child_weight'] = min_child_weight\n",
    "    \n",
    "    # Run CV\n",
    "    cv_results = xgb.cv(param,\n",
    "                        dtrain,\n",
    "                        num_boost_round=num_boost_round,\n",
    "                        seed=42,\n",
    "                        nfold=3,\n",
    "                        metrics={\"auc\"},\n",
    "                        early_stopping_rounds=10,\n",
    "                        as_pandas=True)\n",
    "    # Update best MAE\n",
    "    mean_auc = cv_results['test-auc-mean'].max()\n",
    "    boost_rounds = cv_results['test-auc-mean'].argmax()\n",
    "    print(\"\\tAUC {} for {} rounds\".format(mean_auc, boost_rounds))\n",
    "    if mean_auc > max_auc:\n",
    "        max_auc = mean_auc\n",
    "        best_params = (max_depth, min_child_weight)\n",
    "print(\"Best params: {}, {}, AUC: {}\".format(best_params[0], best_params[1], max_auc))"
   ]
  },
  {
   "cell_type": "markdown",
   "metadata": {},
   "source": [
    "We get the best score with a max_depth of 11 and min_child_weight of 7, so let's update our param dict:"
   ]
  },
  {
   "cell_type": "code",
   "execution_count": 14,
   "metadata": {},
   "outputs": [],
   "source": [
    "param['max_depth'] = 11\n",
    "param['min_child_weight'] = 7"
   ]
  },
  {
   "cell_type": "markdown",
   "metadata": {},
   "source": [
    "## Subsample and Colsample_bytrees"
   ]
  },
  {
   "cell_type": "markdown",
   "metadata": {},
   "source": [
    "These parameters control the sampling of the dataset that is done at each boosting round.\n",
    "\n",
    "Instead of using the whole training set every time, we can build a tree on slightly different data at each step, which makes it less likely to overfit to a single sample or feature.\n",
    "\n",
    "**subsample** corresponds to the fraction of observations (the rows) to subsample at each step. By default it is set to 1 meaning that we use all rows.\n",
    "**colsample_bytree** corresponds to the fraction of features (the columns) to use. By default it is set to 1 meaning that we will use all features."
   ]
  },
  {
   "cell_type": "code",
   "execution_count": 129,
   "metadata": {},
   "outputs": [
    {
     "data": {
      "text/plain": [
       "[0.7, 0.8, 0.9, 1.0]"
      ]
     },
     "execution_count": 129,
     "metadata": {},
     "output_type": "execute_result"
    }
   ],
   "source": [
    "[i/10. for i in range(7, 11)]"
   ]
  },
  {
   "cell_type": "code",
   "execution_count": 130,
   "metadata": {},
   "outputs": [],
   "source": [
    "param_grid = [(subsample, colsample)\n",
    "              for subsample in [i/10. for i in range(7, 11)]\n",
    "              for colsample in [i/10. for i in range(7, 11)]]"
   ]
  },
  {
   "cell_type": "code",
   "execution_count": 131,
   "metadata": {},
   "outputs": [
    {
     "name": "stderr",
     "output_type": "stream",
     "text": [
      "\r",
      "  0%|          | 0/16 [00:00<?, ?it/s]"
     ]
    },
    {
     "name": "stdout",
     "output_type": "stream",
     "text": [
      "CV with subsample = 0.7 and colsample = 0.7\n"
     ]
    },
    {
     "name": "stderr",
     "output_type": "stream",
     "text": [
      "\r",
      "  6%|▋         | 1/16 [09:12<2:18:09, 552.62s/it]"
     ]
    },
    {
     "name": "stdout",
     "output_type": "stream",
     "text": [
      "\tAUC 0.9581206666666667 for 31 rounds\n",
      "CV with subsample = 0.7 and colsample = 0.8\n"
     ]
    },
    {
     "name": "stderr",
     "output_type": "stream",
     "text": [
      "\r",
      " 12%|█▎        | 2/16 [14:31<1:52:33, 482.41s/it]"
     ]
    },
    {
     "name": "stdout",
     "output_type": "stream",
     "text": [
      "\tAUC 0.9592156666666667 for 32 rounds\n",
      "CV with subsample = 0.7 and colsample = 0.9\n"
     ]
    },
    {
     "name": "stderr",
     "output_type": "stream",
     "text": [
      "\r",
      " 19%|█▉        | 3/16 [18:14<1:27:41, 404.69s/it]"
     ]
    },
    {
     "name": "stdout",
     "output_type": "stream",
     "text": [
      "\tAUC 0.9589196666666666 for 17 rounds\n",
      "CV with subsample = 0.7 and colsample = 1.0\n"
     ]
    },
    {
     "name": "stderr",
     "output_type": "stream",
     "text": [
      "\r",
      " 25%|██▌       | 4/16 [22:02<1:10:18, 351.52s/it]"
     ]
    },
    {
     "name": "stdout",
     "output_type": "stream",
     "text": [
      "\tAUC 0.9596766666666667 for 18 rounds\n",
      "CV with subsample = 0.8 and colsample = 0.7\n"
     ]
    },
    {
     "name": "stderr",
     "output_type": "stream",
     "text": [
      "\r",
      " 31%|███▏      | 5/16 [26:46<1:00:44, 331.32s/it]"
     ]
    },
    {
     "name": "stdout",
     "output_type": "stream",
     "text": [
      "\tAUC 0.959078 for 27 rounds\n",
      "CV with subsample = 0.8 and colsample = 0.8\n"
     ]
    },
    {
     "name": "stderr",
     "output_type": "stream",
     "text": [
      "\r",
      " 38%|███▊      | 6/16 [32:03<54:30, 327.06s/it]  "
     ]
    },
    {
     "name": "stdout",
     "output_type": "stream",
     "text": [
      "\tAUC 0.9593223333333333 for 32 rounds\n",
      "CV with subsample = 0.8 and colsample = 0.9\n"
     ]
    },
    {
     "name": "stderr",
     "output_type": "stream",
     "text": [
      "\r",
      " 44%|████▍     | 7/16 [35:45<44:21, 295.74s/it]"
     ]
    },
    {
     "name": "stdout",
     "output_type": "stream",
     "text": [
      "\tAUC 0.959512 for 18 rounds\n",
      "CV with subsample = 0.8 and colsample = 1.0\n"
     ]
    },
    {
     "name": "stderr",
     "output_type": "stream",
     "text": [
      "\r",
      " 50%|█████     | 8/16 [39:49<37:21, 280.22s/it]"
     ]
    },
    {
     "name": "stdout",
     "output_type": "stream",
     "text": [
      "\tAUC 0.9599773333333333 for 20 rounds\n",
      "CV with subsample = 0.9 and colsample = 0.7\n"
     ]
    },
    {
     "name": "stderr",
     "output_type": "stream",
     "text": [
      "\r",
      " 56%|█████▋    | 9/16 [43:08<29:50, 255.78s/it]"
     ]
    },
    {
     "name": "stdout",
     "output_type": "stream",
     "text": [
      "\tAUC 0.9595546666666667 for 25 rounds\n",
      "CV with subsample = 0.9 and colsample = 0.8\n"
     ]
    },
    {
     "name": "stderr",
     "output_type": "stream",
     "text": [
      "\r",
      " 62%|██████▎   | 10/16 [46:47<24:28, 244.76s/it]"
     ]
    },
    {
     "name": "stdout",
     "output_type": "stream",
     "text": [
      "\tAUC 0.959197 for 25 rounds\n",
      "CV with subsample = 0.9 and colsample = 0.9\n"
     ]
    },
    {
     "name": "stderr",
     "output_type": "stream",
     "text": [
      "\r",
      " 69%|██████▉   | 11/16 [50:23<19:39, 235.97s/it]"
     ]
    },
    {
     "name": "stdout",
     "output_type": "stream",
     "text": [
      "\tAUC 0.9601259999999999 for 22 rounds\n",
      "CV with subsample = 0.9 and colsample = 1.0\n"
     ]
    },
    {
     "name": "stderr",
     "output_type": "stream",
     "text": [
      "\r",
      " 75%|███████▌  | 12/16 [56:26<18:16, 274.11s/it]"
     ]
    },
    {
     "name": "stdout",
     "output_type": "stream",
     "text": [
      "\tAUC 0.9605743333333333 for 26 rounds\n",
      "CV with subsample = 1.0 and colsample = 0.7\n"
     ]
    },
    {
     "name": "stderr",
     "output_type": "stream",
     "text": [
      "\r",
      " 81%|████████▏ | 13/16 [1:00:18<13:04, 261.65s/it]"
     ]
    },
    {
     "name": "stdout",
     "output_type": "stream",
     "text": [
      "\tAUC 0.9599286666666668 for 28 rounds\n",
      "CV with subsample = 1.0 and colsample = 0.8\n"
     ]
    },
    {
     "name": "stderr",
     "output_type": "stream",
     "text": [
      "\r",
      " 88%|████████▊ | 14/16 [1:03:37<08:05, 242.63s/it]"
     ]
    },
    {
     "name": "stdout",
     "output_type": "stream",
     "text": [
      "\tAUC 0.9595053333333334 for 24 rounds\n",
      "CV with subsample = 1.0 and colsample = 0.9\n"
     ]
    },
    {
     "name": "stderr",
     "output_type": "stream",
     "text": [
      "\r",
      " 94%|█████████▍| 15/16 [1:07:14<03:54, 235.00s/it]"
     ]
    },
    {
     "name": "stdout",
     "output_type": "stream",
     "text": [
      "\tAUC 0.959482 for 20 rounds\n",
      "CV with subsample = 1.0 and colsample = 1.0\n"
     ]
    },
    {
     "name": "stderr",
     "output_type": "stream",
     "text": [
      "100%|██████████| 16/16 [1:11:05<00:00, 266.62s/it]"
     ]
    },
    {
     "name": "stdout",
     "output_type": "stream",
     "text": [
      "\tAUC 0.960932 for 23 rounds\n",
      "Best params: 1.0, 1.0, AUC: 0.960932\n"
     ]
    },
    {
     "name": "stderr",
     "output_type": "stream",
     "text": [
      "\n"
     ]
    }
   ],
   "source": [
    "# Define initial best params and AUC\n",
    "max_auc = float(\"-Inf\")\n",
    "best_params = None\n",
    "\n",
    "\n",
    "# iterate over the sample space\n",
    "for subsample, colsample in tqdm(param_grid ):\n",
    "    print(\"CV with subsample = {} and colsample = {}\".format(\n",
    "        subsample, colsample))\n",
    "    \n",
    "    # Update our parameters\n",
    "    param['subsample'] = subsample\n",
    "    param['colsample_bytree'] = colsample\n",
    "    \n",
    "    # Run CV\n",
    "    cv_results = xgb.cv(param,\n",
    "                        dtrain,\n",
    "                        num_boost_round=num_boost_round,\n",
    "                        seed=42,\n",
    "                        nfold=3,\n",
    "                        metrics={\"auc\"},\n",
    "                        early_stopping_rounds=10,\n",
    "                        as_pandas=True)\n",
    "    # Update best MAE\n",
    "    mean_auc = cv_results['test-auc-mean'].max()\n",
    "    boost_rounds = cv_results['test-auc-mean'].argmax()\n",
    "    print(\"\\tAUC {} for {} rounds\".format(mean_auc, boost_rounds))\n",
    "    if mean_auc > max_auc:\n",
    "        max_auc = mean_auc\n",
    "        best_params = (subsample, colsample)\n",
    "print(\"Best params: {}, {}, AUC: {}\".format(best_params[0], best_params[1], max_auc))"
   ]
  },
  {
   "cell_type": "code",
   "execution_count": 15,
   "metadata": {},
   "outputs": [],
   "source": [
    "param['subsample'] = 1.\n",
    "param['colsample_bytree'] = 1."
   ]
  },
  {
   "cell_type": "markdown",
   "metadata": {},
   "source": [
    "## ETA"
   ]
  },
  {
   "cell_type": "markdown",
   "metadata": {},
   "source": [
    "The ETA parameter controls the learning rate. It corresponds to the shrinkage of the weights associated to features after each round, in other words it defines the amount of \"correction\" we make at each step\n",
    "In practice, having a lower eta makes our model more robust to overfitting thus, usually, the lower the learning rate, the best. But with a lower eta, we need more boosting rounds, which takes more time to train, sometimes for only marginal improvements. Let's try a couple of values here, and time them with the notebook command:bbb"
   ]
  },
  {
   "cell_type": "code",
   "execution_count": 18,
   "metadata": {},
   "outputs": [
    {
     "name": "stderr",
     "output_type": "stream",
     "text": [
      "\r",
      "  0%|          | 0/6 [00:00<?, ?it/s]"
     ]
    },
    {
     "name": "stdout",
     "output_type": "stream",
     "text": [
      "CV with eta=0.3\n",
      "CPU times: user 2 µs, sys: 0 ns, total: 2 µs\n",
      "Wall time: 5.01 µs\n"
     ]
    },
    {
     "name": "stderr",
     "output_type": "stream",
     "text": [
      "\r",
      " 17%|█▋        | 1/6 [10:29<52:26, 629.36s/it]"
     ]
    },
    {
     "name": "stdout",
     "output_type": "stream",
     "text": [
      "\tAUC 0.9644202 for 43 rounds\n",
      "\n",
      "CV with eta=0.2\n",
      "CPU times: user 3 µs, sys: 1 µs, total: 4 µs\n",
      "Wall time: 7.87 µs\n"
     ]
    },
    {
     "name": "stderr",
     "output_type": "stream",
     "text": [
      "\r",
      " 33%|███▎      | 2/6 [2:25:46<3:11:42, 2875.72s/it]"
     ]
    },
    {
     "name": "stdout",
     "output_type": "stream",
     "text": [
      "\tAUC 0.9649552 for 58 rounds\n",
      "\n",
      "CV with eta=0.1\n",
      "CPU times: user 3 µs, sys: 1e+03 ns, total: 4 µs\n",
      "Wall time: 5.96 µs\n"
     ]
    },
    {
     "name": "stderr",
     "output_type": "stream",
     "text": [
      "\r",
      " 50%|█████     | 3/6 [3:47:39<2:54:20, 3486.82s/it]"
     ]
    },
    {
     "name": "stdout",
     "output_type": "stream",
     "text": [
      "\tAUC 0.9655692 for 109 rounds\n",
      "\n",
      "CV with eta=0.05\n",
      "CPU times: user 2 µs, sys: 0 ns, total: 2 µs\n",
      "Wall time: 4.77 µs\n"
     ]
    },
    {
     "name": "stderr",
     "output_type": "stream",
     "text": [
      "\r",
      " 67%|██████▋   | 4/6 [5:32:17<2:24:08, 4324.10s/it]"
     ]
    },
    {
     "name": "stdout",
     "output_type": "stream",
     "text": [
      "\tAUC 0.9653751999999999 for 184 rounds\n",
      "\n",
      "CV with eta=0.01\n",
      "CPU times: user 2 µs, sys: 0 ns, total: 2 µs\n",
      "Wall time: 5.25 µs\n"
     ]
    },
    {
     "name": "stderr",
     "output_type": "stream",
     "text": [
      "\r",
      " 83%|████████▎ | 5/6 [10:03:13<2:11:43, 7903.95s/it]"
     ]
    },
    {
     "name": "stdout",
     "output_type": "stream",
     "text": [
      "\tAUC 0.96549 for 996 rounds\n",
      "\n",
      "CV with eta=0.005\n",
      "CPU times: user 4 µs, sys: 7 µs, total: 11 µs\n",
      "Wall time: 29.8 µs\n"
     ]
    },
    {
     "name": "stderr",
     "output_type": "stream",
     "text": [
      "100%|██████████| 6/6 [25:32:58<00:00, 15329.70s/it] "
     ]
    },
    {
     "name": "stdout",
     "output_type": "stream",
     "text": [
      "\tAUC 0.9642986 for 998 rounds\n",
      "\n",
      "Best params: None, AUC: -inf\n"
     ]
    },
    {
     "name": "stderr",
     "output_type": "stream",
     "text": [
      "\n"
     ]
    }
   ],
   "source": [
    "# Define initial best params and AUC\n",
    "max_auc = float(\"-Inf\")\n",
    "best_params = None\n",
    "\n",
    "\n",
    "for eta in tqdm([.3, .2, .1, .05, .01, .005]):\n",
    "    print(\"CV with eta={}\".format(eta))\n",
    "    # We update our parameters\n",
    "    param['eta'] = eta\n",
    "    # Run and time CV\n",
    "    %time \n",
    "    cv_results = xgb.cv(\n",
    "        param,\n",
    "        dtrain,\n",
    "        num_boost_round=num_boost_round,\n",
    "        seed=42,\n",
    "        nfold=5,\n",
    "        metrics={\"auc\"},\n",
    "        early_stopping_rounds=10\n",
    "    )\n",
    "    # Update best score\n",
    "    mean_auc = cv_results['test-auc-mean'].max()\n",
    "    boost_rounds = cv_results['test-auc-mean'].argmax()\n",
    "    print(\"\\tAUC {} for {} rounds\\n\".format(mean_auc, boost_rounds))\n",
    "    if mean_auc < max_auc:\n",
    "        max_auc = mean_auc\n",
    "        best_params = eta\n",
    "print(\"Best params: {}, AUC: {}\".format(best_params, max_auc))"
   ]
  },
  {
   "cell_type": "code",
   "execution_count": 19,
   "metadata": {},
   "outputs": [],
   "source": [
    "param['eta'] = 0.1"
   ]
  },
  {
   "cell_type": "markdown",
   "metadata": {},
   "source": [
    "## Tuning Results Hyperparameters"
   ]
  },
  {
   "cell_type": "code",
   "execution_count": 20,
   "metadata": {},
   "outputs": [
    {
     "data": {
      "text/plain": [
       "{'max_depth': 11,\n",
       " 'min_child_weight': 7,\n",
       " 'eta': 0.1,\n",
       " 'subsample': 1.0,\n",
       " 'colsample_bytree': 1.0,\n",
       " 'objective': 'binary:logistic',\n",
       " 'eval_metric': 'auc'}"
      ]
     },
     "execution_count": 20,
     "metadata": {},
     "output_type": "execute_result"
    }
   ],
   "source": [
    "param"
   ]
  },
  {
   "cell_type": "markdown",
   "metadata": {},
   "source": [
    "# Final Model"
   ]
  },
  {
   "cell_type": "code",
   "execution_count": 23,
   "metadata": {},
   "outputs": [
    {
     "name": "stdout",
     "output_type": "stream",
     "text": [
      "[0]\tValidation-auc:0.553303\n",
      "Will train until Validation-auc hasn't improved in 20 rounds.\n",
      "[1]\tValidation-auc:0.557079\n",
      "[2]\tValidation-auc:0.559656\n",
      "[3]\tValidation-auc:0.562852\n",
      "[4]\tValidation-auc:0.562811\n",
      "[5]\tValidation-auc:0.562513\n",
      "[6]\tValidation-auc:0.562838\n",
      "[7]\tValidation-auc:0.564833\n",
      "[8]\tValidation-auc:0.564798\n",
      "[9]\tValidation-auc:0.567778\n",
      "[10]\tValidation-auc:0.566211\n",
      "[11]\tValidation-auc:0.566508\n",
      "[12]\tValidation-auc:0.567766\n",
      "[13]\tValidation-auc:0.569518\n",
      "[14]\tValidation-auc:0.570784\n",
      "[15]\tValidation-auc:0.571355\n",
      "[16]\tValidation-auc:0.572737\n",
      "[17]\tValidation-auc:0.574034\n",
      "[18]\tValidation-auc:0.574788\n",
      "[19]\tValidation-auc:0.575801\n",
      "[20]\tValidation-auc:0.576442\n",
      "[21]\tValidation-auc:0.5771\n",
      "[22]\tValidation-auc:0.577161\n",
      "[23]\tValidation-auc:0.577532\n",
      "[24]\tValidation-auc:0.577915\n",
      "[25]\tValidation-auc:0.578445\n",
      "[26]\tValidation-auc:0.577873\n",
      "[27]\tValidation-auc:0.58054\n",
      "[28]\tValidation-auc:0.581033\n",
      "[29]\tValidation-auc:0.580472\n",
      "[30]\tValidation-auc:0.580667\n",
      "[31]\tValidation-auc:0.580733\n",
      "[32]\tValidation-auc:0.582677\n",
      "[33]\tValidation-auc:0.583736\n",
      "[34]\tValidation-auc:0.583427\n",
      "[35]\tValidation-auc:0.583519\n",
      "[36]\tValidation-auc:0.585152\n",
      "[37]\tValidation-auc:0.584401\n",
      "[38]\tValidation-auc:0.584613\n",
      "[39]\tValidation-auc:0.585177\n",
      "[40]\tValidation-auc:0.585536\n",
      "[41]\tValidation-auc:0.586579\n",
      "[42]\tValidation-auc:0.588024\n",
      "[43]\tValidation-auc:0.588526\n",
      "[44]\tValidation-auc:0.588331\n",
      "[45]\tValidation-auc:0.588798\n",
      "[46]\tValidation-auc:0.588823\n",
      "[47]\tValidation-auc:0.589216\n",
      "[48]\tValidation-auc:0.58887\n",
      "[49]\tValidation-auc:0.587937\n",
      "[50]\tValidation-auc:0.588585\n",
      "[51]\tValidation-auc:0.588728\n",
      "[52]\tValidation-auc:0.589134\n",
      "[53]\tValidation-auc:0.588247\n",
      "[54]\tValidation-auc:0.588029\n",
      "[55]\tValidation-auc:0.588337\n",
      "[56]\tValidation-auc:0.588026\n",
      "[57]\tValidation-auc:0.588171\n",
      "[58]\tValidation-auc:0.588065\n",
      "[59]\tValidation-auc:0.588466\n",
      "[60]\tValidation-auc:0.588034\n",
      "[61]\tValidation-auc:0.587807\n",
      "[62]\tValidation-auc:0.587748\n",
      "[63]\tValidation-auc:0.587616\n",
      "[64]\tValidation-auc:0.587598\n",
      "[65]\tValidation-auc:0.587507\n",
      "[66]\tValidation-auc:0.58737\n",
      "[67]\tValidation-auc:0.587186\n",
      "Stopping. Best iteration:\n",
      "[47]\tValidation-auc:0.589216\n",
      "\n"
     ]
    }
   ],
   "source": [
    "best_model = xgb.train(\n",
    "    param,\n",
    "    dtrain,\n",
    "    num_boost_round=num_boost_round,\n",
    "    evals=[(dvalidation, \"Validation\")],\n",
    "    early_stopping_rounds=20)"
   ]
  },
  {
   "cell_type": "code",
   "execution_count": 24,
   "metadata": {},
   "outputs": [],
   "source": [
    "best_model.save_model(\"../models/best_model.model\")"
   ]
  },
  {
   "cell_type": "code",
   "execution_count": 27,
   "metadata": {},
   "outputs": [
    {
     "data": {
      "text/plain": [
       "array([0.08488293, 0.08948976, 0.06540319, ..., 0.06093495, 0.32176277,\n",
       "       0.21019623], dtype=float32)"
      ]
     },
     "execution_count": 27,
     "metadata": {},
     "output_type": "execute_result"
    }
   ],
   "source": [
    "loaded_model = xgb.Booster()\n",
    "loaded_model.load_model(\"../models/best_model.model\")\n",
    "# And use it for predictions.\n",
    "loaded_model.predict(dtest)"
   ]
  },
  {
   "cell_type": "code",
   "execution_count": null,
   "metadata": {},
   "outputs": [],
   "source": []
  },
  {
   "cell_type": "code",
   "execution_count": null,
   "metadata": {},
   "outputs": [],
   "source": []
  },
  {
   "cell_type": "code",
   "execution_count": null,
   "metadata": {},
   "outputs": [],
   "source": []
  },
  {
   "cell_type": "code",
   "execution_count": null,
   "metadata": {},
   "outputs": [],
   "source": []
  },
  {
   "cell_type": "code",
   "execution_count": null,
   "metadata": {},
   "outputs": [],
   "source": []
  },
  {
   "cell_type": "code",
   "execution_count": 2,
   "metadata": {},
   "outputs": [],
   "source": [
    "params = {\n",
    "          \"learning_rate\"    : [0.05, 0.10, 0.15, 0.20, 0.25, 0.30],\n",
    "          \"n_estimators\"     : [5, 10, 25, 50],\n",
    "          \"max_depth\"        : [3, 4, 5, 6, 8, 10, 12, 15],\n",
    "          \"min_child_weight\" : [1, 3, 5, 7],\n",
    "          \"gamma\"            : [0.0, 0.1, 0.2 , 0.3, 0.4],\n",
    "          \"subsample\"        : [i/100.0 for i in range(75,90,5)],\n",
    "          \"colsample_bytree\" : [0.3, 0.4, 0.5 , 0.7]\n",
    "         }"
   ]
  },
  {
   "cell_type": "code",
   "execution_count": 49,
   "metadata": {},
   "outputs": [
    {
     "name": "stdout",
     "output_type": "stream",
     "text": [
      "{'base_score': 0.5, 'booster': 'gbtree', 'colsample_bylevel': 1, 'colsample_bynode': 1, 'colsample_bytree': 1, 'gamma': 0, 'learning_rate': 0.1, 'max_delta_step': 0, 'max_depth': 3, 'min_child_weight': 1, 'missing': None, 'n_estimators': 100, 'nthread': 1, 'objective': 'binary:logistic', 'reg_alpha': 0, 'reg_lambda': 1, 'scale_pos_weight': 1, 'seed': 0, 'subsample': 1, 'verbosity': 1}\n"
     ]
    }
   ],
   "source": [
    "# Create the XGB classifier, xgb_model.\n",
    "xgb_model = XGBClassifier()\n",
    "# List the default parameters.\n",
    "print(xgb_model.get_xgb_params())"
   ]
  },
  {
   "cell_type": "code",
   "execution_count": 51,
   "metadata": {},
   "outputs": [
    {
     "name": "stdout",
     "output_type": "stream",
     "text": [
      "[0]\tvalidation_0-error:0.101686\tvalidation_0-auc:0.528765\n",
      "[1]\tvalidation_0-error:0.101686\tvalidation_0-auc:0.528765\n",
      "[2]\tvalidation_0-error:0.101686\tvalidation_0-auc:0.541381\n",
      "[3]\tvalidation_0-error:0.101686\tvalidation_0-auc:0.552055\n",
      "[4]\tvalidation_0-error:0.101686\tvalidation_0-auc:0.542922\n",
      "[5]\tvalidation_0-error:0.101686\tvalidation_0-auc:0.551868\n",
      "[6]\tvalidation_0-error:0.101686\tvalidation_0-auc:0.558648\n",
      "[7]\tvalidation_0-error:0.101686\tvalidation_0-auc:0.565723\n",
      "[8]\tvalidation_0-error:0.101686\tvalidation_0-auc:0.56875\n",
      "[9]\tvalidation_0-error:0.215173\tvalidation_0-auc:0.56832\n",
      "[10]\tvalidation_0-error:0.208163\tvalidation_0-auc:0.571801\n",
      "[11]\tvalidation_0-error:0.208252\tvalidation_0-auc:0.572184\n",
      "[12]\tvalidation_0-error:0.208252\tvalidation_0-auc:0.571489\n",
      "[13]\tvalidation_0-error:0.198846\tvalidation_0-auc:0.574799\n",
      "[14]\tvalidation_0-error:0.207897\tvalidation_0-auc:0.574451\n",
      "[15]\tvalidation_0-error:0.200887\tvalidation_0-auc:0.572805\n",
      "[16]\tvalidation_0-error:0.200621\tvalidation_0-auc:0.575015\n",
      "[17]\tvalidation_0-error:0.193079\tvalidation_0-auc:0.576759\n",
      "[18]\tvalidation_0-error:0.225111\tvalidation_0-auc:0.579654\n",
      "[19]\tvalidation_0-error:0.2252\tvalidation_0-auc:0.579766\n",
      "[20]\tvalidation_0-error:0.217391\tvalidation_0-auc:0.578486\n",
      "[21]\tvalidation_0-error:0.216415\tvalidation_0-auc:0.579061\n",
      "[22]\tvalidation_0-error:0.21677\tvalidation_0-auc:0.580248\n",
      "[23]\tvalidation_0-error:0.210648\tvalidation_0-auc:0.579035\n",
      "[24]\tvalidation_0-error:0.208784\tvalidation_0-auc:0.578985\n",
      "[25]\tvalidation_0-error:0.205235\tvalidation_0-auc:0.579455\n",
      "[26]\tvalidation_0-error:0.20488\tvalidation_0-auc:0.579292\n",
      "[27]\tvalidation_0-error:0.199379\tvalidation_0-auc:0.579766\n",
      "[28]\tvalidation_0-error:0.189086\tvalidation_0-auc:0.57968\n",
      "[29]\tvalidation_0-error:0.180745\tvalidation_0-auc:0.57977\n",
      "[30]\tvalidation_0-error:0.179503\tvalidation_0-auc:0.579523\n",
      "[31]\tvalidation_0-error:0.17693\tvalidation_0-auc:0.57776\n",
      "[32]\tvalidation_0-error:0.177285\tvalidation_0-auc:0.577643\n",
      "[33]\tvalidation_0-error:0.18394\tvalidation_0-auc:0.578973\n",
      "[34]\tvalidation_0-error:0.179592\tvalidation_0-auc:0.577578\n",
      "[35]\tvalidation_0-error:0.179414\tvalidation_0-auc:0.578305\n",
      "[36]\tvalidation_0-error:0.18252\tvalidation_0-auc:0.579002\n",
      "[37]\tvalidation_0-error:0.184827\tvalidation_0-auc:0.57945\n",
      "[38]\tvalidation_0-error:0.173114\tvalidation_0-auc:0.57916\n",
      "[39]\tvalidation_0-error:0.175155\tvalidation_0-auc:0.580556\n",
      "[40]\tvalidation_0-error:0.175244\tvalidation_0-auc:0.581204\n",
      "[41]\tvalidation_0-error:0.161757\tvalidation_0-auc:0.58102\n",
      "[42]\tvalidation_0-error:0.161491\tvalidation_0-auc:0.580884\n",
      "[43]\tvalidation_0-error:0.161224\tvalidation_0-auc:0.580003\n",
      "[44]\tvalidation_0-error:0.158474\tvalidation_0-auc:0.580971\n",
      "[45]\tvalidation_0-error:0.157054\tvalidation_0-auc:0.581823\n",
      "[46]\tvalidation_0-error:0.160515\tvalidation_0-auc:0.581971\n",
      "[47]\tvalidation_0-error:0.157941\tvalidation_0-auc:0.582938\n",
      "[48]\tvalidation_0-error:0.155546\tvalidation_0-auc:0.581551\n",
      "[49]\tvalidation_0-error:0.157143\tvalidation_0-auc:0.582086\n",
      "[50]\tvalidation_0-error:0.155368\tvalidation_0-auc:0.582241\n",
      "[51]\tvalidation_0-error:0.15457\tvalidation_0-auc:0.58079\n",
      "[52]\tvalidation_0-error:0.154392\tvalidation_0-auc:0.581062\n",
      "[53]\tvalidation_0-error:0.152972\tvalidation_0-auc:0.580895\n",
      "[54]\tvalidation_0-error:0.150665\tvalidation_0-auc:0.58069\n",
      "[55]\tvalidation_0-error:0.149956\tvalidation_0-auc:0.581696\n",
      "[56]\tvalidation_0-error:0.147737\tvalidation_0-auc:0.581258\n",
      "[57]\tvalidation_0-error:0.148802\tvalidation_0-auc:0.580874\n",
      "[58]\tvalidation_0-error:0.148891\tvalidation_0-auc:0.581588\n",
      "[59]\tvalidation_0-error:0.148891\tvalidation_0-auc:0.581939\n",
      "[60]\tvalidation_0-error:0.149512\tvalidation_0-auc:0.582543\n",
      "[61]\tvalidation_0-error:0.149157\tvalidation_0-auc:0.582892\n",
      "[62]\tvalidation_0-error:0.149867\tvalidation_0-auc:0.583024\n",
      "[63]\tvalidation_0-error:0.148625\tvalidation_0-auc:0.583486\n",
      "[64]\tvalidation_0-error:0.145608\tvalidation_0-auc:0.583688\n",
      "[65]\tvalidation_0-error:0.146673\tvalidation_0-auc:0.583854\n",
      "[66]\tvalidation_0-error:0.144366\tvalidation_0-auc:0.583925\n",
      "[67]\tvalidation_0-error:0.144632\tvalidation_0-auc:0.583742\n",
      "[68]\tvalidation_0-error:0.14339\tvalidation_0-auc:0.583617\n",
      "[69]\tvalidation_0-error:0.142502\tvalidation_0-auc:0.583685\n",
      "[70]\tvalidation_0-error:0.139574\tvalidation_0-auc:0.584815\n",
      "[71]\tvalidation_0-error:0.139663\tvalidation_0-auc:0.585408\n",
      "[72]\tvalidation_0-error:0.138687\tvalidation_0-auc:0.58664\n",
      "[73]\tvalidation_0-error:0.138864\tvalidation_0-auc:0.586292\n",
      "[74]\tvalidation_0-error:0.139485\tvalidation_0-auc:0.585931\n",
      "[75]\tvalidation_0-error:0.139308\tvalidation_0-auc:0.586071\n",
      "[76]\tvalidation_0-error:0.138154\tvalidation_0-auc:0.586372\n",
      "[77]\tvalidation_0-error:0.137267\tvalidation_0-auc:0.586477\n",
      "[78]\tvalidation_0-error:0.137622\tvalidation_0-auc:0.586425\n",
      "[79]\tvalidation_0-error:0.136114\tvalidation_0-auc:0.586575\n",
      "[80]\tvalidation_0-error:0.135847\tvalidation_0-auc:0.587314\n",
      "[81]\tvalidation_0-error:0.135936\tvalidation_0-auc:0.587667\n",
      "[82]\tvalidation_0-error:0.135315\tvalidation_0-auc:0.586648\n",
      "[83]\tvalidation_0-error:0.135847\tvalidation_0-auc:0.587002\n",
      "[84]\tvalidation_0-error:0.136557\tvalidation_0-auc:0.58677\n",
      "[85]\tvalidation_0-error:0.135138\tvalidation_0-auc:0.585599\n",
      "[86]\tvalidation_0-error:0.13567\tvalidation_0-auc:0.586057\n",
      "[87]\tvalidation_0-error:0.13567\tvalidation_0-auc:0.586299\n",
      "[88]\tvalidation_0-error:0.136202\tvalidation_0-auc:0.586991\n",
      "[89]\tvalidation_0-error:0.133274\tvalidation_0-auc:0.587211\n",
      "[90]\tvalidation_0-error:0.133363\tvalidation_0-auc:0.587449\n",
      "[91]\tvalidation_0-error:0.132209\tvalidation_0-auc:0.586847\n",
      "[92]\tvalidation_0-error:0.132032\tvalidation_0-auc:0.586986\n",
      "[93]\tvalidation_0-error:0.131588\tvalidation_0-auc:0.587337\n",
      "[94]\tvalidation_0-error:0.131056\tvalidation_0-auc:0.586791\n",
      "[95]\tvalidation_0-error:0.131854\tvalidation_0-auc:0.587513\n",
      "[96]\tvalidation_0-error:0.129636\tvalidation_0-auc:0.585654\n",
      "[97]\tvalidation_0-error:0.129193\tvalidation_0-auc:0.586013\n",
      "[98]\tvalidation_0-error:0.129547\tvalidation_0-auc:0.586679\n",
      "[99]\tvalidation_0-error:0.128483\tvalidation_0-auc:0.585967\n"
     ]
    },
    {
     "data": {
      "text/plain": [
       "XGBClassifier(base_score=0.5, booster='gbtree', colsample_bylevel=1,\n",
       "              colsample_bynode=1, colsample_bytree=1, gamma=0,\n",
       "              learning_rate=0.1, max_delta_step=0, max_depth=3,\n",
       "              min_child_weight=1, missing=None, n_estimators=100, n_jobs=1,\n",
       "              nthread=None, objective='binary:logistic', random_state=0,\n",
       "              reg_alpha=0, reg_lambda=1, scale_pos_weight=1, seed=None,\n",
       "              silent=None, subsample=1, verbosity=1)"
      ]
     },
     "execution_count": 51,
     "metadata": {},
     "output_type": "execute_result"
    }
   ],
   "source": [
    "xgb_model.fit(X_train, y_train, eval_metric=['error', 'auc'], eval_set=[((X_val, y_val))])"
   ]
  },
  {
   "cell_type": "code",
   "execution_count": 55,
   "metadata": {},
   "outputs": [
    {
     "name": "stdout",
     "output_type": "stream",
     "text": [
      "confusion matrix\n",
      "[[12059   738]\n",
      " [ 1141   149]]\n",
      "classification report\n",
      "              precision    recall  f1-score   support\n",
      "\n",
      "           0       0.91      0.94      0.93     12797\n",
      "           1       0.17      0.12      0.14      1290\n",
      "\n",
      "    accuracy                           0.87     14087\n",
      "   macro avg       0.54      0.53      0.53     14087\n",
      "weighted avg       0.85      0.87      0.86     14087\n",
      "\n",
      "-----------------------------------------------------------------------------------------\n",
      "Accuracy is :\n",
      "0.8666146092141691\n",
      "Area under the curve : 0.528917\n"
     ]
    }
   ],
   "source": [
    "y_pred = xgb_model.predict(X_test)  #predicts\n",
    "print('confusion matrix')\n",
    "print(metrics.confusion_matrix(y_test, y_pred))\n",
    "print('classification report')\n",
    "print(metrics.classification_report(y_test, y_pred))\n",
    "print(\"-----------------------------------------------------------------------------------------\")\n",
    "print(\"Accuracy is :\")\n",
    "print(metrics.accuracy_score(y_test, y_pred))\n",
    "print('Area under the curve : %f' % (metrics.roc_auc_score(y_test, y_pred)))"
   ]
  },
  {
   "cell_type": "code",
   "execution_count": null,
   "metadata": {},
   "outputs": [],
   "source": []
  },
  {
   "cell_type": "code",
   "execution_count": null,
   "metadata": {},
   "outputs": [],
   "source": []
  },
  {
   "cell_type": "code",
   "execution_count": null,
   "metadata": {},
   "outputs": [],
   "source": []
  },
  {
   "cell_type": "code",
   "execution_count": 22,
   "metadata": {},
   "outputs": [
    {
     "data": {
      "text/plain": [
       "['number_diagnoses_clip',\n",
       " 'number_outpatient_log1p',\n",
       " 'number_emergency_log1p',\n",
       " 'number_inpatient_log1p',\n",
       " 'num_procedures_log1p',\n",
       " 'num_medications_log1p',\n",
       " 'num_lab_procedures_log1p',\n",
       " 'norm_time_in_hospital',\n",
       " 'race_AfricanAmerican',\n",
       " 'race_Asian',\n",
       " 'race_Caucasian',\n",
       " 'race_Hispanic',\n",
       " 'race_Other',\n",
       " 'gender_Male',\n",
       " 'gender_Unknown/Invalid',\n",
       " 'age_[10-20)',\n",
       " 'age_[20-30)',\n",
       " 'age_[30-40)',\n",
       " 'age_[40-50)',\n",
       " 'age_[50-60)',\n",
       " 'age_[60-70)',\n",
       " 'age_[70-80)',\n",
       " 'age_[80-90)',\n",
       " 'age_[90-100)',\n",
       " 'metformin_No',\n",
       " 'metformin_Steady',\n",
       " 'metformin_Up',\n",
       " 'repaglinide_No',\n",
       " 'repaglinide_Steady',\n",
       " 'repaglinide_Up',\n",
       " 'nateglinide_No',\n",
       " 'nateglinide_Steady',\n",
       " 'nateglinide_Up',\n",
       " 'chlorpropamide_No',\n",
       " 'chlorpropamide_Steady',\n",
       " 'chlorpropamide_Up',\n",
       " 'glimepiride_No',\n",
       " 'glimepiride_Steady',\n",
       " 'glimepiride_Up',\n",
       " 'glipizide_No',\n",
       " 'glipizide_Steady',\n",
       " 'glipizide_Up',\n",
       " 'glyburide_No',\n",
       " 'glyburide_Steady',\n",
       " 'glyburide_Up',\n",
       " 'tolbutamide_Steady',\n",
       " 'pioglitazone_No',\n",
       " 'pioglitazone_Steady',\n",
       " 'pioglitazone_Up',\n",
       " 'rosiglitazone_No',\n",
       " 'rosiglitazone_Steady',\n",
       " 'rosiglitazone_Up',\n",
       " 'acarbose_Steady',\n",
       " 'acarbose_Up',\n",
       " 'miglitol_No',\n",
       " 'miglitol_Steady',\n",
       " 'miglitol_Up',\n",
       " 'tolazamide_Steady',\n",
       " 'insulin_No',\n",
       " 'insulin_Steady',\n",
       " 'insulin_Up',\n",
       " 'glyburide-metformin_No',\n",
       " 'glyburide-metformin_Steady',\n",
       " 'glyburide-metformin_Up',\n",
       " 'glipizide-metformin_Steady',\n",
       " 'change_No',\n",
       " 'diabetesMed_Yes',\n",
       " 'grouped_diag_1_00',\n",
       " 'grouped_diag_1_01',\n",
       " 'grouped_diag_1_02',\n",
       " 'grouped_diag_1_03',\n",
       " 'grouped_diag_1_04',\n",
       " 'grouped_diag_1_05',\n",
       " 'grouped_diag_1_06',\n",
       " 'grouped_diag_1_07',\n",
       " 'grouped_diag_1_08',\n",
       " 'grouped_diag_1_09',\n",
       " 'grouped_diag_1_11',\n",
       " 'grouped_diag_1_13',\n",
       " 'grouped_diag_1_14',\n",
       " 'grouped_diag_1_15',\n",
       " 'grouped_diag_1_16',\n",
       " 'grouped_diag_1_17',\n",
       " 'grouped_diag_1_18',\n",
       " 'grouped_diag_1_19',\n",
       " 'grouped_diag_1_20',\n",
       " 'grouped_diag_1_21',\n",
       " 'grouped_diag_1_22',\n",
       " 'grouped_diag_1_23',\n",
       " 'grouped_diag_1_24',\n",
       " 'grouped_diag_1_25',\n",
       " 'grouped_diag_1_26',\n",
       " 'grouped_diag_1_27',\n",
       " 'grouped_diag_1_28',\n",
       " 'grouped_diag_1_29',\n",
       " 'grouped_diag_1_30',\n",
       " 'grouped_diag_1_31',\n",
       " 'grouped_diag_1_32',\n",
       " 'grouped_diag_1_33',\n",
       " 'grouped_diag_1_34',\n",
       " 'grouped_diag_1_35',\n",
       " 'grouped_diag_1_36',\n",
       " 'grouped_diag_1_37',\n",
       " 'grouped_diag_1_38',\n",
       " 'grouped_diag_1_39',\n",
       " 'grouped_diag_1_40',\n",
       " 'grouped_diag_1_41',\n",
       " 'grouped_diag_1_42',\n",
       " 'grouped_diag_1_43',\n",
       " 'grouped_diag_1_44',\n",
       " 'grouped_diag_1_45',\n",
       " 'grouped_diag_1_46',\n",
       " 'grouped_diag_1_47',\n",
       " 'grouped_diag_1_48',\n",
       " 'grouped_diag_1_49',\n",
       " 'grouped_diag_1_50',\n",
       " 'grouped_diag_1_51',\n",
       " 'grouped_diag_1_52',\n",
       " 'grouped_diag_1_53',\n",
       " 'grouped_diag_1_54',\n",
       " 'grouped_diag_1_55',\n",
       " 'grouped_diag_1_56',\n",
       " 'grouped_diag_1_57',\n",
       " 'grouped_diag_1_58',\n",
       " 'grouped_diag_1_59',\n",
       " 'grouped_diag_1_60',\n",
       " 'grouped_diag_1_61',\n",
       " 'grouped_diag_1_62',\n",
       " 'grouped_diag_1_63',\n",
       " 'grouped_diag_1_64',\n",
       " 'grouped_diag_1_65',\n",
       " 'grouped_diag_1_66',\n",
       " 'grouped_diag_1_67',\n",
       " 'grouped_diag_1_68',\n",
       " 'grouped_diag_1_69',\n",
       " 'grouped_diag_1_70',\n",
       " 'grouped_diag_1_71',\n",
       " 'grouped_diag_1_72',\n",
       " 'grouped_diag_1_73',\n",
       " 'grouped_diag_1_74',\n",
       " 'grouped_diag_1_75',\n",
       " 'grouped_diag_1_78',\n",
       " 'grouped_diag_1_79',\n",
       " 'grouped_diag_1_80',\n",
       " 'grouped_diag_1_81',\n",
       " 'grouped_diag_1_82',\n",
       " 'grouped_diag_1_83',\n",
       " 'grouped_diag_1_84',\n",
       " 'grouped_diag_1_85',\n",
       " 'grouped_diag_1_86',\n",
       " 'grouped_diag_1_87',\n",
       " 'grouped_diag_1_88',\n",
       " 'grouped_diag_1_89',\n",
       " 'grouped_diag_1_90',\n",
       " 'grouped_diag_1_91',\n",
       " 'grouped_diag_1_92',\n",
       " 'grouped_diag_1_93',\n",
       " 'grouped_diag_1_94',\n",
       " 'grouped_diag_1_95',\n",
       " 'grouped_diag_1_96',\n",
       " 'grouped_diag_1_97',\n",
       " 'grouped_diag_1_98',\n",
       " 'grouped_diag_1_99',\n",
       " 'grouped_diag_1_E9',\n",
       " 'grouped_diag_1_V2',\n",
       " 'grouped_diag_1_V4',\n",
       " 'grouped_diag_1_V5',\n",
       " 'grouped_diag_1_V6',\n",
       " 'grouped_diag_1_V7',\n",
       " 'grouped_diag_2_00',\n",
       " 'grouped_diag_2_01',\n",
       " 'grouped_diag_2_02',\n",
       " 'grouped_diag_2_03',\n",
       " 'grouped_diag_2_04',\n",
       " 'grouped_diag_2_05',\n",
       " 'grouped_diag_2_06',\n",
       " 'grouped_diag_2_07',\n",
       " 'grouped_diag_2_08',\n",
       " 'grouped_diag_2_09',\n",
       " 'grouped_diag_2_11',\n",
       " 'grouped_diag_2_12',\n",
       " 'grouped_diag_2_13',\n",
       " 'grouped_diag_2_14',\n",
       " 'grouped_diag_2_15',\n",
       " 'grouped_diag_2_16',\n",
       " 'grouped_diag_2_17',\n",
       " 'grouped_diag_2_18',\n",
       " 'grouped_diag_2_19',\n",
       " 'grouped_diag_2_20',\n",
       " 'grouped_diag_2_21',\n",
       " 'grouped_diag_2_22',\n",
       " 'grouped_diag_2_23',\n",
       " 'grouped_diag_2_24',\n",
       " 'grouped_diag_2_25',\n",
       " 'grouped_diag_2_26',\n",
       " 'grouped_diag_2_27',\n",
       " 'grouped_diag_2_28',\n",
       " 'grouped_diag_2_29',\n",
       " 'grouped_diag_2_30',\n",
       " 'grouped_diag_2_31',\n",
       " 'grouped_diag_2_32',\n",
       " 'grouped_diag_2_33',\n",
       " 'grouped_diag_2_34',\n",
       " 'grouped_diag_2_35',\n",
       " 'grouped_diag_2_36',\n",
       " 'grouped_diag_2_37',\n",
       " 'grouped_diag_2_38',\n",
       " 'grouped_diag_2_39',\n",
       " 'grouped_diag_2_40',\n",
       " 'grouped_diag_2_41',\n",
       " 'grouped_diag_2_42',\n",
       " 'grouped_diag_2_43',\n",
       " 'grouped_diag_2_44',\n",
       " 'grouped_diag_2_45',\n",
       " 'grouped_diag_2_46',\n",
       " 'grouped_diag_2_47',\n",
       " 'grouped_diag_2_48',\n",
       " 'grouped_diag_2_49',\n",
       " 'grouped_diag_2_50',\n",
       " 'grouped_diag_2_51',\n",
       " 'grouped_diag_2_52',\n",
       " 'grouped_diag_2_53',\n",
       " 'grouped_diag_2_54',\n",
       " 'grouped_diag_2_55',\n",
       " 'grouped_diag_2_56',\n",
       " 'grouped_diag_2_57',\n",
       " 'grouped_diag_2_58',\n",
       " 'grouped_diag_2_59',\n",
       " 'grouped_diag_2_60',\n",
       " 'grouped_diag_2_61',\n",
       " 'grouped_diag_2_62',\n",
       " 'grouped_diag_2_63',\n",
       " 'grouped_diag_2_64',\n",
       " 'grouped_diag_2_65',\n",
       " 'grouped_diag_2_66',\n",
       " 'grouped_diag_2_67',\n",
       " 'grouped_diag_2_68',\n",
       " 'grouped_diag_2_69',\n",
       " 'grouped_diag_2_70',\n",
       " 'grouped_diag_2_71',\n",
       " 'grouped_diag_2_72',\n",
       " 'grouped_diag_2_73',\n",
       " 'grouped_diag_2_74',\n",
       " 'grouped_diag_2_75',\n",
       " 'grouped_diag_2_78',\n",
       " 'grouped_diag_2_79',\n",
       " 'grouped_diag_2_80',\n",
       " 'grouped_diag_2_81',\n",
       " 'grouped_diag_2_82',\n",
       " 'grouped_diag_2_83',\n",
       " 'grouped_diag_2_84',\n",
       " 'grouped_diag_2_85',\n",
       " 'grouped_diag_2_86',\n",
       " 'grouped_diag_2_87',\n",
       " 'grouped_diag_2_88',\n",
       " 'grouped_diag_2_89',\n",
       " 'grouped_diag_2_90',\n",
       " 'grouped_diag_2_91',\n",
       " 'grouped_diag_2_92',\n",
       " 'grouped_diag_2_93',\n",
       " 'grouped_diag_2_94',\n",
       " 'grouped_diag_2_95',\n",
       " 'grouped_diag_2_96',\n",
       " 'grouped_diag_2_97',\n",
       " 'grouped_diag_2_98',\n",
       " 'grouped_diag_2_99',\n",
       " 'grouped_diag_2_E8',\n",
       " 'grouped_diag_2_E9',\n",
       " 'grouped_diag_2_V0',\n",
       " 'grouped_diag_2_V1',\n",
       " 'grouped_diag_2_V2',\n",
       " 'grouped_diag_2_V4',\n",
       " 'grouped_diag_2_V5',\n",
       " 'grouped_diag_2_V6',\n",
       " 'grouped_diag_2_V7',\n",
       " 'grouped_diag_2_V8',\n",
       " 'grouped_diag_3_00',\n",
       " 'grouped_diag_3_01',\n",
       " 'grouped_diag_3_02',\n",
       " 'grouped_diag_3_03',\n",
       " 'grouped_diag_3_04',\n",
       " 'grouped_diag_3_05',\n",
       " 'grouped_diag_3_06',\n",
       " 'grouped_diag_3_07',\n",
       " 'grouped_diag_3_09',\n",
       " 'grouped_diag_3_11',\n",
       " 'grouped_diag_3_12',\n",
       " 'grouped_diag_3_13',\n",
       " 'grouped_diag_3_14',\n",
       " 'grouped_diag_3_15',\n",
       " 'grouped_diag_3_16',\n",
       " 'grouped_diag_3_17',\n",
       " 'grouped_diag_3_18',\n",
       " 'grouped_diag_3_19',\n",
       " 'grouped_diag_3_20',\n",
       " 'grouped_diag_3_21',\n",
       " 'grouped_diag_3_22',\n",
       " 'grouped_diag_3_23',\n",
       " 'grouped_diag_3_24',\n",
       " 'grouped_diag_3_25',\n",
       " 'grouped_diag_3_26',\n",
       " 'grouped_diag_3_27',\n",
       " 'grouped_diag_3_28',\n",
       " 'grouped_diag_3_29',\n",
       " 'grouped_diag_3_30',\n",
       " 'grouped_diag_3_31',\n",
       " 'grouped_diag_3_32',\n",
       " 'grouped_diag_3_33',\n",
       " 'grouped_diag_3_34',\n",
       " 'grouped_diag_3_35',\n",
       " 'grouped_diag_3_36',\n",
       " 'grouped_diag_3_37',\n",
       " 'grouped_diag_3_38',\n",
       " 'grouped_diag_3_39',\n",
       " 'grouped_diag_3_40',\n",
       " 'grouped_diag_3_41',\n",
       " 'grouped_diag_3_42',\n",
       " 'grouped_diag_3_43',\n",
       " 'grouped_diag_3_44',\n",
       " 'grouped_diag_3_45',\n",
       " 'grouped_diag_3_46',\n",
       " 'grouped_diag_3_47',\n",
       " 'grouped_diag_3_48',\n",
       " 'grouped_diag_3_49',\n",
       " 'grouped_diag_3_50',\n",
       " 'grouped_diag_3_51',\n",
       " 'grouped_diag_3_52',\n",
       " 'grouped_diag_3_53',\n",
       " 'grouped_diag_3_54',\n",
       " 'grouped_diag_3_55',\n",
       " 'grouped_diag_3_56',\n",
       " 'grouped_diag_3_57',\n",
       " 'grouped_diag_3_58',\n",
       " 'grouped_diag_3_59',\n",
       " 'grouped_diag_3_60',\n",
       " 'grouped_diag_3_61',\n",
       " 'grouped_diag_3_62',\n",
       " 'grouped_diag_3_64',\n",
       " 'grouped_diag_3_65',\n",
       " 'grouped_diag_3_66',\n",
       " 'grouped_diag_3_67',\n",
       " 'grouped_diag_3_68',\n",
       " 'grouped_diag_3_69',\n",
       " 'grouped_diag_3_70',\n",
       " 'grouped_diag_3_71',\n",
       " 'grouped_diag_3_72',\n",
       " 'grouped_diag_3_73',\n",
       " 'grouped_diag_3_74',\n",
       " 'grouped_diag_3_75',\n",
       " 'grouped_diag_3_78',\n",
       " 'grouped_diag_3_79',\n",
       " 'grouped_diag_3_80',\n",
       " 'grouped_diag_3_81',\n",
       " 'grouped_diag_3_82',\n",
       " 'grouped_diag_3_83',\n",
       " 'grouped_diag_3_84',\n",
       " 'grouped_diag_3_85',\n",
       " 'grouped_diag_3_86',\n",
       " 'grouped_diag_3_87',\n",
       " 'grouped_diag_3_88',\n",
       " 'grouped_diag_3_89',\n",
       " 'grouped_diag_3_90',\n",
       " 'grouped_diag_3_91',\n",
       " 'grouped_diag_3_92',\n",
       " 'grouped_diag_3_93',\n",
       " 'grouped_diag_3_94',\n",
       " 'grouped_diag_3_95',\n",
       " 'grouped_diag_3_96',\n",
       " 'grouped_diag_3_97',\n",
       " 'grouped_diag_3_98',\n",
       " 'grouped_diag_3_99',\n",
       " 'grouped_diag_3_E8',\n",
       " 'grouped_diag_3_E9',\n",
       " 'grouped_diag_3_V0',\n",
       " 'grouped_diag_3_V1',\n",
       " 'grouped_diag_3_V2',\n",
       " 'grouped_diag_3_V4',\n",
       " 'grouped_diag_3_V5',\n",
       " 'grouped_diag_3_V6',\n",
       " 'grouped_diag_3_V7',\n",
       " 'grouped_diag_3_V8']"
      ]
     },
     "execution_count": 22,
     "metadata": {},
     "output_type": "execute_result"
    }
   ],
   "source": [
    "X_train.columns.tolist()\n"
   ]
  },
  {
   "cell_type": "code",
   "execution_count": 24,
   "metadata": {},
   "outputs": [
    {
     "ename": "AttributeError",
     "evalue": "'numpy.ndarray' object has no attribute 'split'",
     "output_type": "error",
     "traceback": [
      "\u001b[0;31m---------------------------------------------------------------------------\u001b[0m",
      "\u001b[0;31mAttributeError\u001b[0m                            Traceback (most recent call last)",
      "\u001b[0;32m<ipython-input-24-e62c1ced199b>\u001b[0m in \u001b[0;36m<module>\u001b[0;34m\u001b[0m\n\u001b[0;32m----> 1\u001b[0;31m \u001b[0mX_train\u001b[0m\u001b[0;34m.\u001b[0m\u001b[0mcolumns\u001b[0m\u001b[0;34m.\u001b[0m\u001b[0mstr\u001b[0m\u001b[0;34m.\u001b[0m\u001b[0mcontains\u001b[0m\u001b[0;34m(\u001b[0m\u001b[0;34m'age'\u001b[0m\u001b[0;34m)\u001b[0m\u001b[0;34m.\u001b[0m\u001b[0msplit\u001b[0m\u001b[0;34m(\u001b[0m\u001b[0;34m\"_\"\u001b[0m\u001b[0;34m)\u001b[0m\u001b[0;34m\u001b[0m\u001b[0;34m\u001b[0m\u001b[0m\n\u001b[0m",
      "\u001b[0;31mAttributeError\u001b[0m: 'numpy.ndarray' object has no attribute 'split'"
     ]
    }
   ],
   "source": [
    "X_train.columns.str.contains('age').split(\"_\")"
   ]
  },
  {
   "cell_type": "code",
   "execution_count": null,
   "metadata": {},
   "outputs": [],
   "source": []
  },
  {
   "cell_type": "code",
   "execution_count": 53,
   "metadata": {},
   "outputs": [],
   "source": [
    "def create_xgb_classifier(alg,\n",
    "                          X_train,\n",
    "                          X_test,\n",
    "                          y_train,\n",
    "                          y_test,\n",
    "                          useTrainCV=True,\n",
    "                          cv_folds=5,\n",
    "                          early_stopping_rounds=50):\n",
    "    if useTrainCV:\n",
    "        alg_ = alg(objective='binary:logistic',\n",
    "                   scale_pos_weight=1,\n",
    "                   scoring='roc_auc')\n",
    "        dtrain = xgb.DMatrix(X_train, label=y_train)\n",
    "        dtest = xgb.DMatrix(X_test, label=y_test)\n",
    "        RnS_ = RandomizedSearchCV(estimator=alg_,\n",
    "                                  param_distributions=params,\n",
    "                                  n_iter=30,\n",
    "                                  scoring='auc',\n",
    "                                  n_jobs=None,\n",
    "                                  refit=True,\n",
    "                                  cv=cv_folds,\n",
    "                                  verbose=0,\n",
    "                                  random_state=121,\n",
    "                                  return_train_score=True)\n",
    "        #fit\n",
    "        RnS_.fit(X_train, y_train)\n",
    "\n",
    "        # Evaluate on training data\n",
    "        # Create an array of predictions directly using the best_estimator_ property\n",
    "        trn_predictions = RnS_.best_estimator_.predict(xgtrain)\n",
    "        trn_pred_proba = RnS_.best_estimator_.predict_proba(xgtrain)[:, 1]\n",
    "\n",
    "        #Print Model report:\n",
    "        print(\"\\nModel Report\")\n",
    "        print(\"Accuracy : {0:.4f}\".format(\n",
    "            metrics.accuracy_score(y_train, trn_predictions)))\n",
    "        print(\"AUC Score : {0:.4f}\".format(\n",
    "            metrics.roc_auc_score(y_train, trn_predictions)))\n",
    "        print(\"Precision Score : {0:.4f}\".format(\n",
    "            metrics.precision_score(y_train, trn_predictions)))\n",
    "        print(\"Recall Score : {0:.4f}\".format(\n",
    "            metrics.recall_score(y_train, trn_predictions)))\n",
    "\n",
    "        # Evaluate on testing data\n",
    "        test_predictions = RnS_.best_estimator_.predict(xgtest)\n",
    "        test_pred_proba = RnS_.best_estimator_.predict_proba(xgtest)[:, 1]\n",
    "\n",
    "        print(\"\\nModel Report\")\n",
    "        print(\"Accuracy : {0:.4f}\".format(\n",
    "            metrics.accuracy_score(y_test, test_predictions)))\n",
    "        print(\"AUC Score : {0:.4f}\".format(\n",
    "            metrics.roc_auc_score(y_test, test_predictions)))\n",
    "        print(\"Precision Score : {0:.4f}\".format(\n",
    "            metrics.precision_score(y_test, test_predictions)))\n",
    "        print(\"Recall Score : {0:.4f}\".format(\n",
    "            metrics.recall_score(y_test, test_predictions)))\n",
    "\n",
    "        res = {}\n",
    "        res['best_estimator'] = RnS_.best_estimator_\n",
    "        res['best_results'] = RnS_.cv_results_\n",
    "        res['best_params'] = RnS_.best_params_\n",
    "        res['best_score'] = RnS_.best_score_\n",
    "\n",
    "        return res"
   ]
  },
  {
   "cell_type": "code",
   "execution_count": 54,
   "metadata": {},
   "outputs": [
    {
     "ename": "NameError",
     "evalue": "name 'features_' is not defined",
     "output_type": "error",
     "traceback": [
      "\u001b[0;31m---------------------------------------------------------------------------\u001b[0m",
      "\u001b[0;31mNameError\u001b[0m                                 Traceback (most recent call last)",
      "\u001b[0;32m<ipython-input-54-506797c47a35>\u001b[0m in \u001b[0;36m<module>\u001b[0;34m\u001b[0m\n\u001b[0;32m----> 1\u001b[0;31m \u001b[0mmodel_01\u001b[0m \u001b[0;34m=\u001b[0m \u001b[0mcreate_xgb_classifier\u001b[0m\u001b[0;34m(\u001b[0m\u001b[0mXGBClassifier\u001b[0m\u001b[0;34m,\u001b[0m \u001b[0mX_train\u001b[0m\u001b[0;34m,\u001b[0m \u001b[0mX_test\u001b[0m\u001b[0;34m,\u001b[0m \u001b[0mfeatures_\u001b[0m\u001b[0;34m,\u001b[0m \u001b[0mtarget_\u001b[0m \u001b[0;34m)\u001b[0m\u001b[0;34m\u001b[0m\u001b[0;34m\u001b[0m\u001b[0m\n\u001b[0m",
      "\u001b[0;31mNameError\u001b[0m: name 'features_' is not defined"
     ]
    }
   ],
   "source": [
    "model_01 = create_xgb_classifier(XGBClassifier, X_train, X_test, features_, target_ )"
   ]
  },
  {
   "cell_type": "code",
   "execution_count": null,
   "metadata": {},
   "outputs": [],
   "source": []
  }
 ],
 "metadata": {
  "kernelspec": {
   "display_name": "Python 3",
   "language": "python",
   "name": "python3"
  },
  "language_info": {
   "codemirror_mode": {
    "name": "ipython",
    "version": 3
   },
   "file_extension": ".py",
   "mimetype": "text/x-python",
   "name": "python",
   "nbconvert_exporter": "python",
   "pygments_lexer": "ipython3",
   "version": "3.7.4"
  },
  "toc": {
   "base_numbering": 1,
   "nav_menu": {},
   "number_sections": true,
   "sideBar": true,
   "skip_h1_title": false,
   "title_cell": "Table of Contents",
   "title_sidebar": "Contents",
   "toc_cell": false,
   "toc_position": {},
   "toc_section_display": true,
   "toc_window_display": false
  }
 },
 "nbformat": 4,
 "nbformat_minor": 4
}
